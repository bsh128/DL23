{
  "nbformat": 4,
  "nbformat_minor": 0,
  "metadata": {
    "colab": {
      "provenance": [],
      "include_colab_link": true
    },
    "kernelspec": {
      "name": "python3",
      "display_name": "Python 3"
    },
    "language_info": {
      "name": "python"
    }
  },
  "cells": [
    {
      "cell_type": "markdown",
      "metadata": {
        "id": "view-in-github",
        "colab_type": "text"
      },
      "source": [
        "<a href=\"https://colab.research.google.com/github/bsh128/DL23/blob/main/DL/DLW06A_part1.ipynb\" target=\"_parent\"><img src=\"https://colab.research.google.com/assets/colab-badge.svg\" alt=\"Open In Colab\"/></a>"
      ]
    },
    {
      "cell_type": "markdown",
      "source": [
        "# 🌀**DLW06A Part I (4/12)** Coding and Language games"
      ],
      "metadata": {
        "id": "_mbT_YJKGkm-"
      }
    },
    {
      "cell_type": "markdown",
      "source": [
        "# 💕 Goal: Creating an app similar to **_Word Guessing Game from Hints_**\n",
        "\n",
        "We will be spending 2 weeks to get this go."
      ],
      "metadata": {
        "id": "ppmHMRdisMiv"
      }
    },
    {
      "cell_type": "markdown",
      "source": [
        "##💦 **Demo 1: Making a word quiz.**"
      ],
      "metadata": {
        "id": "MWpQZGE5wZgt"
      }
    },
    {
      "cell_type": "code",
      "source": [
        "#@markdown Run this code to see guesiong game\n",
        "import random\n",
        "\n",
        "# Define a dictionary of words and their hints\n",
        "word_hints = {\n",
        "    \"suprasegmental\": [\n",
        "        \"This term is related to the features of speech that go beyond individual sounds.\",\n",
        "        \"It is often associated with intonation, stress, and timing.\",\n",
        "        \"Examples include pitch, tone, and stress patterns.\",\n",
        "        \"The answer begins with 's'.\"\n",
        "    ],\n",
        "    \"geminate\": [\n",
        "        \"This term is related to a specific type of consonant.\",\n",
        "        \"It refers to a consonant that is pronounced for a longer duration than its regular counterpart.\",\n",
        "        \"In some languages, it can be represented by doubling the consonant in writing.\",\n",
        "        \"The answer begins with 'g'.\"\n",
        "    ],\n",
        "    \"syllable\": [\n",
        "        \"This term is related to a unit of speech.\",\n",
        "        \"It is a sequence of speech sounds, typically consisting of a vowel and any surrounding consonants.\",\n",
        "        \"A word can have one or multiple of these units.\",\n",
        "        \"The answer begins with 's'.\"\n",
        "    ]\n",
        "}\n",
        "\n",
        "# Define guessing game\n",
        "\n",
        "def guessing_game(word_hints):\n",
        "    words = list(word_hints.keys())\n",
        "    random.shuffle(words)\n",
        "\n",
        "    for word in words:\n",
        "        print(\"\\nGuess the word based on the following hints:\")\n",
        "        hints = word_hints[word]\n",
        "        attempts = 0\n",
        "\n",
        "        while attempts < len(hints):\n",
        "            print(f\"Hint {attempts + 1}: {hints[attempts]}\")\n",
        "            guess = input(\"Your guess: \").strip().lower()\n",
        "\n",
        "            if guess == word.lower():\n",
        "                print(\"Congratulations! You guessed the correct word!\\n\")\n",
        "                break\n",
        "            else:\n",
        "                print(\"Incorrect. Try again with another hint.\\n\")\n",
        "                attempts += 1\n",
        "\n",
        "        if attempts == len(hints):\n",
        "            print(f\"Sorry, you've run out of hints. The correct word was: {word}\\n\")\n",
        "\n",
        "# Using this conditional structure is a common practice in Python to allow a script to be both executed as a standalone program and imported as a module in other scripts without immediately running the code within the script.\n",
        "if __name__ == \"__main__\":\n",
        "  guessing_game(word_hints)"
      ],
      "metadata": {
        "cellView": "form",
        "id": "68fDLUnZs8KF"
      },
      "execution_count": null,
      "outputs": []
    },
    {
      "cell_type": "markdown",
      "source": [
        "##💦**Demo 2: Convert a statement to a yes-no question**"
      ],
      "metadata": {
        "id": "DKwjeU8pW-iu"
      }
    },
    {
      "cell_type": "code",
      "source": [
        "#@markdown Install and import libraries\n",
        "%%capture\n",
        "!pip install gtts\n",
        "!pip install IPython\n",
        "from gtts import gTTS\n",
        "from IPython.display import Audio, display\n",
        "\n",
        "#@markdown etts(), ktts()\n",
        "def etts(text):\n",
        "  text_to_say = text\n",
        "\n",
        "  gtts_object = gTTS(text = text_to_say,\n",
        "                     lang = \"en\",\n",
        "                    slow = False)\n",
        "  \n",
        "  gtts_object.save(\"E-audio.mp3\")\n",
        "  return Audio(\"E-audio.mp3\")\n",
        "\n",
        "def ktts(text):\n",
        "  text_to_say = text\n",
        "\n",
        "  gtts_object = gTTS(text = text_to_say,\n",
        "                     lang = \"ko\",\n",
        "                    slow = False)\n",
        "  \n",
        "  gtts_object.save(\"K-audio.mp3\")\n",
        "  return Audio(\"K-audio.mp3\")"
      ],
      "metadata": {
        "cellView": "form",
        "id": "TajMEehr8_7D"
      },
      "execution_count": null,
      "outputs": []
    },
    {
      "cell_type": "markdown",
      "source": [
        "---\n",
        "### Complete version with some restriction \n",
        "\n",
        "1. The statement you're entering must contain a be-verb.\n",
        "2. If you use a proper noun as a subject, restrict it to one of the followings: \n",
        "\n",
        "> **Male: Tom, Thomas, Bill**\n",
        "\n",
        "> **Female: Mary, Jane, Jessica**\n",
        "\n",
        "2. Must contain a punctuation(.)\n",
        "---"
      ],
      "metadata": {
        "id": "5XYJaX2IDrOu"
      }
    },
    {
      "cell_type": "code",
      "source": [
        "#@markdown Statment to a Yes-No question (Audio autoplay)\n",
        "sentence = input(\"Type a sentence containing a be verb: e.g., I am a students.\\n\")\n",
        "beverbs = [\"is\", \"was\", \"are\", \"were\"]\n",
        "pronouns = [\"I\",\"You\",\"He\",\"She\",\"They\",\"It\"]\n",
        "names = [\"Mary\", \"Jane\", \"Tom\",\"Thomas\",\"Jessica\", \"Bill\"]\n",
        "\n",
        "def check_word(list_A, list_B):\n",
        "    for a in list_A:\n",
        "        for b in list_B:\n",
        "            if b in a:\n",
        "                mword = a\n",
        "                return True, mword\n",
        "    return False, None\n",
        "\n",
        "\n",
        "cat1 = sentence.split()\n",
        "\n",
        "result = check_word(cat1,beverbs)\n",
        "\n",
        "if result[0] == True:\n",
        "  if cat1[0] in pronouns:\n",
        "      b = result[1]\n",
        "      be = \" \"+b+\" \"\n",
        "      ss = sentence.split(be)\n",
        "      subj = ss[0]\n",
        "      nsubj = subj[0].lower()+subj[1:]\n",
        "      pred = ss[1]\n",
        "      w1 = b[0].upper() + b[1:] # Capitalized be verb\n",
        "      newsent = w1 + \" \" + nsubj + \" \" + pred[:-1] + \"?\"\n",
        "      mytext = \"I'll make it to a yes-no question: \" + newsent\n",
        "      print(\"Yes-no question: \", newsent)\n",
        "  elif cat1[0] not in pronouns and cat1[0] in names:\n",
        "        b = result[1]\n",
        "        be = \" \"+b+\" \"\n",
        "        ss = sentence.split(be)\n",
        "        subj = ss[0]\n",
        "        pred = ss[1]\n",
        "        w1 = b[0].upper() + b[1:] # Capitalized be verb\n",
        "        newsent = w1 + \" \" + subj + \" \" + pred[:-1] + \"?\"\n",
        "        mytext = \"I'll make it to a yes-no question: \" + newsent\n",
        "        print(\"Yes-no question: \", newsent)\n",
        "  elif cat1[0] not in pronouns and cat1[0] not in names:\n",
        "        b = result[1]\n",
        "        be = \" \"+b+\" \"\n",
        "        ss = sentence.split(be)\n",
        "        subj = ss[0]\n",
        "        nsubj = subj[0].lower()+subj[1:]\n",
        "        pred = ss[1]\n",
        "        w1 = b[0].upper() + b[1:] # Capitalized be verb\n",
        "        newsent = w1 + \" \" + nsubj + \" \" + pred[:-1] + \"?\"\n",
        "        mytext = \"I'll make it to a yes-no question: \" + newsent\n",
        "        print(\"Yes-no question: \", newsent)\n",
        "\n",
        "else:\n",
        "    mytext = \"The sentence you\\' provided does not contain a 'Be' verb. Try again.\"\n",
        "    print(\"Type a sentence that contains a be verb.\")\n",
        "\n",
        "etts(mytext)\n",
        "Audio(\"E-audio.mp3\",autoplay=True)"
      ],
      "metadata": {
        "cellView": "form",
        "id": "ZjPSWFub-55P"
      },
      "execution_count": null,
      "outputs": []
    },
    {
      "cell_type": "markdown",
      "source": [
        "## 💦**Demo 3: Story game**"
      ],
      "metadata": {
        "id": "UG0_f0gJQl1r"
      }
    },
    {
      "cell_type": "code",
      "source": [
        "#@markdown Adventure game with reading\n",
        "print(\"Welcome to the adventure game!\")\n",
        "print(\"=\"*50)\n",
        "print(\"You are a high school student who has been chosen to embark on a quest to save your town from a mysterious curse.\")\n",
        "print(\"You will face various challenges and choices along the way, and your decisions will determine the outcome of the story.\")\n",
        "print(\"=\"*50)\n",
        "name = input(\"What is your name? \")\n",
        "print(\"=\"*50)\n",
        "print(f\"Nice to meet you, {name}! Are you ready to begin?\")\n",
        "print(\"=\"*50)\n",
        "# Start of the story\n",
        "print(\"You wake up one morning to find that your town is covered in a thick fog.\")\n",
        "print(\"People are starting to get sick, and strange things are happening.\")\n",
        "print(\"You decide to investigate and find out that a curse has been cast upon the town.\")\n",
        "print(\"You meet a wise old sage who tells you that the only way to lift the curse is to find a magical artifact that is hidden in a dangerous dungeon.\")\n",
        "print(\"=\"*50)\n",
        "# First choice\n",
        "print(\"You have two options:\")\n",
        "print(\"Option 1: Search for clues in the town.\")\n",
        "print(\"Option 2: Go straight to the dungeon.\")\n",
        "print(\"=\"*50)\n",
        "choice = input(\"Which option do you choose? (1 or 2) \")\n",
        "print(\"=\"*50)\n",
        "if choice == \"1\":\n",
        "    print(\"You spend the day talking to townspeople and searching for clues.\")\n",
        "    print(\"You find a cryptic message that leads you to a hidden cave.\")\n",
        "elif choice == \"2\":\n",
        "    print(\"You journey to the dungeon and face many dangers along the way.\")\n",
        "    print(\"You eventually reach the entrance to the dungeon.\")\n",
        "print(\"=\"*50)\n",
        "# Second choice\n",
        "print(\"You have two options:\")\n",
        "print(\"Option 1: Enter the cave.\")\n",
        "print(\"Option 2: Enter the dungeon.\")\n",
        "print(\"=\"*50)\n",
        "choice = input(\"Which option do you choose? (1 or 2) \")\n",
        "print(\"=\"*50)\n",
        "if choice == \"1\":\n",
        "    print(\"=\"*50)\n",
        "    print(\"You enter the cave and find the magical artifact!\")\n",
        "    print(\"You bring it back to the town and the curse is lifted.\")\n",
        "    print(\"Congratulations! You have saved the town!\")\n",
        "    print(\"=\"*50)\n",
        "elif choice == \"2\":\n",
        "    print(\"=\"*50)\n",
        "    print(\"You enter the dungeon and face many challenges.\")\n",
        "    print(\"You eventually find the magical artifact, but it is guarded by a powerful monster.\")\n",
        "    print(\"You must defeat the monster to retrieve the artifact.\")\n",
        "    print(\"You engage in a fierce battle!\")\n",
        "    print(\"You lost the battle and the curse remains.\")\n",
        "    print(\"Brave You! Though the curse remains, people appreicate your effort.\")\n",
        "    print(\"=\"*50)\n"
      ],
      "metadata": {
        "cellView": "form",
        "id": "qBAUNW9qP75J"
      },
      "execution_count": null,
      "outputs": []
    },
    {
      "cell_type": "code",
      "source": [
        "#@markdown Story game with listening (audio)\n",
        "from gtts import gTTS\n",
        "import IPython.display as ipd\n",
        "\n",
        "def play_audio(text):\n",
        "    language = 'en'\n",
        "    audio = gTTS(text=text, lang=language, slow=False)\n",
        "    audio.save(\"audio.mp3\")\n",
        "    ipd.display(ipd.Audio(\"audio.mp3\", autoplay=True))\n",
        "\n",
        "# Introduction\n",
        "play_audio(\"Welcome to the story game. You are walking home from school when you hear footsteps behind you. You look back and see a shady figure in the distance. What do you do?\")\n",
        "ipd.clear_output(wait=True)\n",
        "input(\"Press Enter to continue...\")\n",
        "\n",
        "# Stage 1\n",
        "play_audio(\"You decide to run. Do you run towards the park or towards the busy street?\")\n",
        "ipd.clear_output(wait=True)\n",
        "choice = input(\"Enter 1 to run towards the park, or 2 to run towards the busy street: \")\n",
        "if choice == \"1\":\n",
        "    play_audio(\"You run towards the park and manage to lose the shady figure. You continue walking home and make it back safely.\")\n",
        "elif choice == \"2\":\n",
        "    play_audio(\"You run towards the busy street, hoping to find someone to help you. As you get closer, you realize that the figure is a police officer. You stop and explain what happened, and the officer escorts you home safely.\")\n",
        "ipd.clear_output(wait=True)\n",
        "input(\"Press Enter to continue...\")\n",
        "\n",
        "# Stage 2\n",
        "play_audio(\"You arrive home and find that your front door is slightly open. Do you go inside or call the police?\")\n",
        "ipd.clear_output(wait=True)\n",
        "choice = input(\"Enter 1 to go inside, or 2 to call the police: \")\n",
        "if choice == \"1\":\n",
        "    play_audio(\"You cautiously enter your home and find that everything is as you left it. You breathe a sigh of relief and go about your evening.\")\n",
        "elif choice == \"2\":\n",
        "    play_audio(\"You call the police and they arrive shortly after. They search your home and find no one inside. You spend the night at a friend's house and return home the next day.\")\n",
        "ipd.clear_output(wait=True)\n",
        "input(\"Press Enter to continue...\")\n",
        "\n",
        "# Conclusion\n",
        "play_audio(\"Good choice! you have successfully made it home safely. Thanks for playing!\")\n",
        "ipd.clear_output(wait=True)\n"
      ],
      "metadata": {
        "cellView": "form",
        "id": "mx_BDEl-TqLe"
      },
      "execution_count": null,
      "outputs": []
    },
    {
      "cell_type": "markdown",
      "source": [
        "---\n",
        "# 📙Concepts and elements to cover for our goal:\n",
        "\n",
        "0. Importing modules: Explain how to import a module (like random) and use its functions (like random.shuffle()).\n",
        "\n",
        "1. Python basics: Basic data types (strings, integers, lists, dictionaries), variables, and basic input/output functions (like print() and input()).\n",
        "\n",
        "2. String manipulation: Cover string methods like .strip() and .lower().\n",
        "3. Control structures: Introduce for loops, while loops, and conditional statements (if, elif, else).\n",
        "\n",
        "4. Functions: Explain how to define and use functions, including function parameters. \n",
        "\n",
        "5. F-strings: Introduce f-strings (formatted string literals) and how to embed expressions inside string literals using curly braces {}.\n",
        "---"
      ],
      "metadata": {
        "id": "2VMRdKbJwOsk"
      }
    },
    {
      "cell_type": "markdown",
      "source": [
        "# [0] Importing modules\n",
        "\n",
        "1. **function, (class), module, package, and library**\n",
        "\n",
        "> (class) > functions\n",
        "\n",
        "\n",
        "2. Let's use the analogy of a toolbox: \n",
        "\n",
        "+ **a module** is a single tool, (e.g., random) \n",
        "+ **a package** is a toolbox containing multiple tools (e.g., gTTS)\n",
        "+ **a library** is a set of toolboxes designed for a specific purpose. (e.g., nltk - Natural Language Tool Kit) _>> Next time_"
      ],
      "metadata": {
        "id": "wgZEzhkQwzc3"
      }
    },
    {
      "cell_type": "markdown",
      "source": [
        "##A. 'gTTS' package"
      ],
      "metadata": {
        "id": "298wKG9q7-rN"
      }
    },
    {
      "cell_type": "code",
      "source": [
        "!pip install gtts\n",
        "!pip install IPython\n",
        "from gtts import gTTS\n",
        "from IPython.display import Audio, display"
      ],
      "metadata": {
        "id": "YLCRqNbW8E9J",
        "outputId": "95c41547-c736-4cdc-f20b-0c87f8c84993",
        "colab": {
          "base_uri": "https://localhost:8080/"
        }
      },
      "execution_count": null,
      "outputs": [
        {
          "output_type": "stream",
          "name": "stdout",
          "text": [
            "Looking in indexes: https://pypi.org/simple, https://us-python.pkg.dev/colab-wheels/public/simple/\n",
            "Collecting gtts\n",
            "  Downloading gTTS-2.3.1-py3-none-any.whl (28 kB)\n",
            "Requirement already satisfied: requests<3,>=2.27 in /usr/local/lib/python3.9/dist-packages (from gtts) (2.27.1)\n",
            "Requirement already satisfied: click<8.2,>=7.1 in /usr/local/lib/python3.9/dist-packages (from gtts) (8.1.3)\n",
            "Requirement already satisfied: idna<4,>=2.5 in /usr/local/lib/python3.9/dist-packages (from requests<3,>=2.27->gtts) (3.4)\n",
            "Requirement already satisfied: certifi>=2017.4.17 in /usr/local/lib/python3.9/dist-packages (from requests<3,>=2.27->gtts) (2022.12.7)\n",
            "Requirement already satisfied: charset-normalizer~=2.0.0 in /usr/local/lib/python3.9/dist-packages (from requests<3,>=2.27->gtts) (2.0.12)\n",
            "Requirement already satisfied: urllib3<1.27,>=1.21.1 in /usr/local/lib/python3.9/dist-packages (from requests<3,>=2.27->gtts) (1.26.15)\n",
            "Installing collected packages: gtts\n",
            "Successfully installed gtts-2.3.1\n",
            "Looking in indexes: https://pypi.org/simple, https://us-python.pkg.dev/colab-wheels/public/simple/\n",
            "Requirement already satisfied: IPython in /usr/local/lib/python3.9/dist-packages (7.34.0)\n",
            "Requirement already satisfied: traitlets>=4.2 in /usr/local/lib/python3.9/dist-packages (from IPython) (5.7.1)\n",
            "Collecting jedi>=0.16\n",
            "  Downloading jedi-0.18.2-py2.py3-none-any.whl (1.6 MB)\n",
            "\u001b[2K     \u001b[90m━━━━━━━━━━━━━━━━━━━━━━━━━━━━━━━━━━━━━━━━\u001b[0m \u001b[32m1.6/1.6 MB\u001b[0m \u001b[31m20.1 MB/s\u001b[0m eta \u001b[36m0:00:00\u001b[0m\n",
            "\u001b[?25hRequirement already satisfied: pexpect>4.3 in /usr/local/lib/python3.9/dist-packages (from IPython) (4.8.0)\n",
            "Requirement already satisfied: pygments in /usr/local/lib/python3.9/dist-packages (from IPython) (2.14.0)\n",
            "Requirement already satisfied: matplotlib-inline in /usr/local/lib/python3.9/dist-packages (from IPython) (0.1.6)\n",
            "Requirement already satisfied: decorator in /usr/local/lib/python3.9/dist-packages (from IPython) (4.4.2)\n",
            "Requirement already satisfied: pickleshare in /usr/local/lib/python3.9/dist-packages (from IPython) (0.7.5)\n",
            "Requirement already satisfied: prompt-toolkit!=3.0.0,!=3.0.1,<3.1.0,>=2.0.0 in /usr/local/lib/python3.9/dist-packages (from IPython) (3.0.38)\n",
            "Requirement already satisfied: backcall in /usr/local/lib/python3.9/dist-packages (from IPython) (0.2.0)\n",
            "Requirement already satisfied: setuptools>=18.5 in /usr/local/lib/python3.9/dist-packages (from IPython) (67.6.1)\n",
            "Requirement already satisfied: parso<0.9.0,>=0.8.0 in /usr/local/lib/python3.9/dist-packages (from jedi>=0.16->IPython) (0.8.3)\n",
            "Requirement already satisfied: ptyprocess>=0.5 in /usr/local/lib/python3.9/dist-packages (from pexpect>4.3->IPython) (0.7.0)\n",
            "Requirement already satisfied: wcwidth in /usr/local/lib/python3.9/dist-packages (from prompt-toolkit!=3.0.0,!=3.0.1,<3.1.0,>=2.0.0->IPython) (0.2.6)\n",
            "Installing collected packages: jedi\n",
            "Successfully installed jedi-0.18.2\n"
          ]
        }
      ]
    },
    {
      "cell_type": "code",
      "source": [
        "#@markdown etts(), ktts()\n",
        "def etts(text):\n",
        "  text_to_say = text\n",
        "\n",
        "  gtts_object = gTTS(text = text_to_say,\n",
        "                     lang = \"en\",\n",
        "                    slow = False)\n",
        "  \n",
        "  gtts_object.save(\"E-audio.mp3\")\n",
        "  return Audio(\"E-audio.mp3\")\n",
        "\n",
        "def ktts(text):\n",
        "  text_to_say = text\n",
        "\n",
        "  gtts_object = gTTS(text = text_to_say,\n",
        "                     lang = \"ko\",\n",
        "                    slow = False)\n",
        "  \n",
        "  gtts_object.save(\"K-audio.mp3\")\n",
        "  return Audio(\"K-audio.mp3\")"
      ],
      "metadata": {
        "cellView": "form",
        "id": "bYDfENzGRUFb"
      },
      "execution_count": null,
      "outputs": []
    },
    {
      "cell_type": "markdown",
      "source": [
        "## B. 'random' module\n",
        "\n",
        "[Random Picker App using 'random'](https://github.com/MK316/Spring2023/blob/main/RandomPickerS23.ipynb)"
      ],
      "metadata": {
        "id": "vSFe_Umb68o9"
      }
    },
    {
      "cell_type": "code",
      "source": [
        "import random"
      ],
      "metadata": {
        "id": "t8tYICF_1Yx8"
      },
      "execution_count": null,
      "outputs": []
    },
    {
      "cell_type": "markdown",
      "source": [
        "Return a number between 3 and 9 (both included):"
      ],
      "metadata": {
        "id": "RlWQ5dXark-r"
      }
    },
    {
      "cell_type": "code",
      "source": [
        "random.randint(1, 10) #random.randint(x,y)는 함수이므로 문법대로 사용해야 함."
      ],
      "metadata": {
        "colab": {
          "base_uri": "https://localhost:8080/"
        },
        "id": "sMf1Ow7W11EZ",
        "outputId": "a0574616-465e-4ab4-cde4-16feef81f94a"
      },
      "execution_count": null,
      "outputs": [
        {
          "output_type": "execute_result",
          "data": {
            "text/plain": [
              "4"
            ]
          },
          "metadata": {},
          "execution_count": 5
        }
      ]
    },
    {
      "cell_type": "code",
      "source": [
        "a1 = random.randint(1, 10)\n",
        "a1*10  #변수를 이용하면 결과값을 이용한 다른 연산이나 작업이 가능하다."
      ],
      "metadata": {
        "colab": {
          "base_uri": "https://localhost:8080/"
        },
        "id": "WUVN9-Rs825s",
        "outputId": "b2cfd54b-c861-4ab0-a9a9-4681070980a5"
      },
      "execution_count": null,
      "outputs": [
        {
          "output_type": "execute_result",
          "data": {
            "text/plain": [
              "30"
            ]
          },
          "metadata": {},
          "execution_count": 6
        }
      ]
    },
    {
      "cell_type": "markdown",
      "source": [
        "# [1] Python basics: \n",
        "\n",
        "+ Basic data types (strings, integers, lists, dictionaries), \n",
        "+ variables, \n",
        "+ basic input/output functions (like print() and input()).\n",
        "\n"
      ],
      "metadata": {
        "id": "_vTm-kXl8qa_"
      }
    },
    {
      "cell_type": "markdown",
      "source": [
        "## [1-1] Basic data types"
      ],
      "metadata": {
        "id": "qaQ0_hkoENRX"
      }
    },
    {
      "cell_type": "markdown",
      "source": [
        "### A. strings"
      ],
      "metadata": {
        "id": "HB86s1k990Hh"
      }
    },
    {
      "cell_type": "code",
      "source": [
        "a2 = \"Welcome\"\n",
        "a3 = \"2023\""
      ],
      "metadata": {
        "id": "L_OImwSL94Kr"
      },
      "execution_count": null,
      "outputs": []
    },
    {
      "cell_type": "markdown",
      "source": [
        "☺️ DIY: How to get \"Welcome, 2023!\""
      ],
      "metadata": {
        "id": "wkYUBwu1-IvG"
      }
    },
    {
      "cell_type": "code",
      "source": [
        "a2 +', '+ a3 +'!'\n"
      ],
      "metadata": {
        "id": "XZ2LHJcl9_u4",
        "outputId": "a65db84b-8b3a-4039-fbb8-5edb0b7bb5a8",
        "colab": {
          "base_uri": "https://localhost:8080/",
          "height": 35
        }
      },
      "execution_count": null,
      "outputs": [
        {
          "output_type": "execute_result",
          "data": {
            "text/plain": [
              "'Welcome, 2023!'"
            ],
            "application/vnd.google.colaboratory.intrinsic+json": {
              "type": "string"
            }
          },
          "metadata": {},
          "execution_count": 18
        }
      ]
    },
    {
      "cell_type": "markdown",
      "source": [
        "☺️ DIY: Let a4 = \"화이팅\", and get '화이팅화이팅화이팅화이팅화이팅화이팅화이팅화이팅화이팅화이팅'(10번)"
      ],
      "metadata": {
        "id": "WNaHBznU-yEd"
      }
    },
    {
      "cell_type": "code",
      "source": [
        "a4 = \"화이팅\"\n",
        "a4*10"
      ],
      "metadata": {
        "id": "0vfPcih3-xg4",
        "outputId": "2920cafa-d4a3-4ed0-dfe2-f5ba6bce419e",
        "colab": {
          "base_uri": "https://localhost:8080/",
          "height": 35
        }
      },
      "execution_count": null,
      "outputs": [
        {
          "output_type": "execute_result",
          "data": {
            "text/plain": [
              "'화이팅화이팅화이팅화이팅화이팅화이팅화이팅화이팅화이팅화이팅'"
            ],
            "application/vnd.google.colaboratory.intrinsic+json": {
              "type": "string"
            }
          },
          "metadata": {},
          "execution_count": 20
        }
      ]
    },
    {
      "cell_type": "code",
      "source": [
        "type(a2) # data type of the variable a2"
      ],
      "metadata": {
        "colab": {
          "base_uri": "https://localhost:8080/"
        },
        "id": "1XroWNyGADZU",
        "outputId": "d7800aa9-80b5-42a2-a63c-12d7cc523ad0"
      },
      "execution_count": null,
      "outputs": [
        {
          "output_type": "execute_result",
          "data": {
            "text/plain": [
              "str"
            ]
          },
          "metadata": {},
          "execution_count": 22
        }
      ]
    },
    {
      "cell_type": "code",
      "source": [
        "a3\n",
        "a5 = int(a3)\n",
        "print(a5)\n",
        "type(a5)"
      ],
      "metadata": {
        "id": "C6a8nZTBS31K",
        "outputId": "1fa5db8f-53c5-4cd8-cc74-4280fd60dcc4",
        "colab": {
          "base_uri": "https://localhost:8080/"
        }
      },
      "execution_count": null,
      "outputs": [
        {
          "output_type": "stream",
          "name": "stdout",
          "text": [
            "2023\n"
          ]
        },
        {
          "output_type": "execute_result",
          "data": {
            "text/plain": [
              "int"
            ]
          },
          "metadata": {},
          "execution_count": 27
        }
      ]
    },
    {
      "cell_type": "markdown",
      "source": [
        "###B. Integers, float\n",
        "> integer: 정수\n",
        "\n",
        "> float : 소수"
      ],
      "metadata": {
        "id": "kpNXrqZ2_9I2"
      }
    },
    {
      "cell_type": "code",
      "source": [
        "x1 = 45; y1 = 0.5\n",
        "x1 * y1"
      ],
      "metadata": {
        "colab": {
          "base_uri": "https://localhost:8080/"
        },
        "id": "CEs2BHNbAB1Q",
        "outputId": "c082f8f9-e301-497f-ce9f-91855051ba95"
      },
      "execution_count": null,
      "outputs": [
        {
          "output_type": "execute_result",
          "data": {
            "text/plain": [
              "22.5"
            ]
          },
          "metadata": {},
          "execution_count": 29
        }
      ]
    },
    {
      "cell_type": "code",
      "source": [
        "type(x1+y1)"
      ],
      "metadata": {
        "id": "2WarI3IQsRJX",
        "outputId": "88d5427f-63ad-4d57-8cbc-4548bec81ed2",
        "colab": {
          "base_uri": "https://localhost:8080/"
        }
      },
      "execution_count": null,
      "outputs": [
        {
          "output_type": "execute_result",
          "data": {
            "text/plain": [
              "float"
            ]
          },
          "metadata": {},
          "execution_count": 31
        }
      ]
    },
    {
      "cell_type": "markdown",
      "source": [
        "### C. List datatype\n",
        "> 원소가 여러개, 여러가지 작업을 해야할 때\n",
        "\n",
        "> 하나의 리스트로 묶기"
      ],
      "metadata": {
        "id": "S7PJcJFkBO46"
      }
    },
    {
      "cell_type": "code",
      "source": [
        "x2 = [1,2,3]\n",
        "x2"
      ],
      "metadata": {
        "colab": {
          "base_uri": "https://localhost:8080/"
        },
        "id": "LjSEH6lABR98",
        "outputId": "42a1e2ca-be9a-474a-a69f-1d01f55d2ca4"
      },
      "execution_count": null,
      "outputs": [
        {
          "output_type": "execute_result",
          "data": {
            "text/plain": [
              "[1, 2, 3]"
            ]
          },
          "metadata": {},
          "execution_count": 32
        }
      ]
    },
    {
      "cell_type": "markdown",
      "source": [
        "x2[index]: Python index starts from 0\n",
        "> 리스트에 몇번째 값에 해당하는 것 index\n",
        "\n",
        "> counting을 0부터 함\n",
        "\n",
        "> range: 다 보여줘라, list: 리스트로 만들어라"
      ],
      "metadata": {
        "id": "xcPyj0Fesdiu"
      }
    },
    {
      "cell_type": "code",
      "source": [
        "x2[0]"
      ],
      "metadata": {
        "id": "VGWl1av6BYGu",
        "outputId": "ee2da4ff-bb96-4240-e837-5bb3c44cd33b",
        "colab": {
          "base_uri": "https://localhost:8080/"
        }
      },
      "execution_count": null,
      "outputs": [
        {
          "output_type": "execute_result",
          "data": {
            "text/plain": [
              "1"
            ]
          },
          "metadata": {},
          "execution_count": 41
        }
      ]
    },
    {
      "cell_type": "code",
      "source": [
        "# range(x,y)\n",
        "x3 = range(1,10)\n",
        "list(x3)  #list(), range(1,10)"
      ],
      "metadata": {
        "colab": {
          "base_uri": "https://localhost:8080/"
        },
        "id": "WNmjoCQ1ANr4",
        "outputId": "29318a5c-8eff-429b-a80a-6a0aa5c252c4"
      },
      "execution_count": null,
      "outputs": [
        {
          "output_type": "execute_result",
          "data": {
            "text/plain": [
              "[1, 2, 3, 4, 5, 6, 7, 8, 9]"
            ]
          },
          "metadata": {},
          "execution_count": 42
        }
      ]
    },
    {
      "cell_type": "code",
      "source": [
        "x4 = \"Seonhyeong\"\n",
        "list(x4)"
      ],
      "metadata": {
        "colab": {
          "base_uri": "https://localhost:8080/"
        },
        "id": "amRP-ytuBlO6",
        "outputId": "35aa9bc8-80a5-465d-dfb5-c8aca8aa1ba9"
      },
      "execution_count": null,
      "outputs": [
        {
          "output_type": "execute_result",
          "data": {
            "text/plain": [
              "['S', 'e', 'o', 'n', 'h', 'y', 'e', 'o', 'n', 'g']"
            ]
          },
          "metadata": {},
          "execution_count": 45
        }
      ]
    },
    {
      "cell_type": "code",
      "source": [
        "fruit = ['grape', 'apple', 'blueberry']"
      ],
      "metadata": {
        "id": "ViWi7uD4WApS"
      },
      "execution_count": null,
      "outputs": []
    },
    {
      "cell_type": "code",
      "source": [
        "fruit[1]"
      ],
      "metadata": {
        "id": "QS8Ync4HWVOx",
        "outputId": "35265c50-150b-4894-dae7-d5b9b826b65f",
        "colab": {
          "base_uri": "https://localhost:8080/",
          "height": 35
        }
      },
      "execution_count": null,
      "outputs": [
        {
          "output_type": "execute_result",
          "data": {
            "text/plain": [
              "'apple'"
            ],
            "application/vnd.google.colaboratory.intrinsic+json": {
              "type": "string"
            }
          },
          "metadata": {},
          "execution_count": 52
        }
      ]
    },
    {
      "cell_type": "markdown",
      "source": [
        "###D. Dictionary datatype: {'key':'value'}\n",
        "\n",
        "In Python, a dictionary is a built-in data type that represents a collection of key-value pairs. Each key-value pair in a dictionary is separated by a colon (:), and each pair is separated by a comma. "
      ],
      "metadata": {
        "id": "ZoyOSN_QCCdO"
      }
    },
    {
      "cell_type": "code",
      "source": [
        "mydict = {\"API\":\"Application Programming Interface\", \"GPT\":\"Generative Pretrained Transformer\"}\n",
        "mydict['GPT']"
      ],
      "metadata": {
        "colab": {
          "base_uri": "https://localhost:8080/",
          "height": 35
        },
        "id": "PdRkfL3JBMWK",
        "outputId": "af8d43e2-834a-425c-af0c-9b9e78d0eb73"
      },
      "execution_count": null,
      "outputs": [
        {
          "output_type": "execute_result",
          "data": {
            "text/plain": [
              "'Generative Pretrained Transformer'"
            ],
            "application/vnd.google.colaboratory.intrinsic+json": {
              "type": "string"
            }
          },
          "metadata": {},
          "execution_count": 56
        }
      ]
    },
    {
      "cell_type": "code",
      "source": [
        "mydict['API']"
      ],
      "metadata": {
        "id": "muVfPouBs47b",
        "outputId": "f3319af8-ce8a-436f-d562-b05873b4b2d1",
        "colab": {
          "base_uri": "https://localhost:8080/",
          "height": 35
        }
      },
      "execution_count": null,
      "outputs": [
        {
          "output_type": "execute_result",
          "data": {
            "text/plain": [
              "'Application Programming Interface'"
            ],
            "application/vnd.google.colaboratory.intrinsic+json": {
              "type": "string"
            }
          },
          "metadata": {},
          "execution_count": 57
        }
      ]
    },
    {
      "cell_type": "code",
      "source": [
        "cs = {\"Class A\": 25, \"Class B\": 30, \"Class C\": 32}\n",
        "cs['Class C']"
      ],
      "metadata": {
        "colab": {
          "base_uri": "https://localhost:8080/"
        },
        "id": "WBs-NrEJDQRC",
        "outputId": "40dd942c-556b-4591-dec8-932983a1db8f"
      },
      "execution_count": null,
      "outputs": [
        {
          "output_type": "execute_result",
          "data": {
            "text/plain": [
              "32"
            ]
          },
          "metadata": {},
          "execution_count": 60
        }
      ]
    },
    {
      "cell_type": "code",
      "source": [
        "print('The size of the class is : ', cs['Class C'])"
      ],
      "metadata": {
        "id": "WsvyZL7xXuqS",
        "outputId": "8fd635af-fa47-4920-8531-cd62601d7d18",
        "colab": {
          "base_uri": "https://localhost:8080/"
        }
      },
      "execution_count": null,
      "outputs": [
        {
          "output_type": "stream",
          "name": "stdout",
          "text": [
            "The size of the class is :  32\n"
          ]
        }
      ]
    },
    {
      "cell_type": "code",
      "source": [
        "print('The size of the class is : ', cs['Class B'])"
      ],
      "metadata": {
        "id": "_1eQeUq_YTYJ",
        "outputId": "075aa30e-58e5-4da4-cbb0-385789e87a9c",
        "colab": {
          "base_uri": "https://localhost:8080/"
        }
      },
      "execution_count": null,
      "outputs": [
        {
          "output_type": "stream",
          "name": "stdout",
          "text": [
            "The size of the class is :  30\n"
          ]
        }
      ]
    },
    {
      "cell_type": "markdown",
      "source": [
        "## [1-2] Variables"
      ],
      "metadata": {
        "id": "0m_ux_SoEUos"
      }
    },
    {
      "cell_type": "markdown",
      "source": [
        "## [1-3] input/output functions"
      ],
      "metadata": {
        "id": "YUasz63dEYAX"
      }
    },
    {
      "cell_type": "code",
      "source": [
        "mynumber = 2\n",
        "mynumber"
      ],
      "metadata": {
        "colab": {
          "base_uri": "https://localhost:8080/"
        },
        "id": "BSp7TWkeEfmz",
        "outputId": "22322459-dfac-4c6b-e95b-cb3cf89d0e3e"
      },
      "execution_count": null,
      "outputs": [
        {
          "output_type": "execute_result",
          "data": {
            "text/plain": [
              "2"
            ]
          },
          "metadata": {},
          "execution_count": 63
        }
      ]
    },
    {
      "cell_type": "code",
      "source": [
        "yournumber = input()  # In Python, input() is a built-in function that allows you to get user input from the keyboard. \n",
        "yournumber"
      ],
      "metadata": {
        "colab": {
          "base_uri": "https://localhost:8080/",
          "height": 54
        },
        "id": "6LZudH_0En_w",
        "outputId": "495dbe5b-b486-42e9-b6a7-c5c302d3116d"
      },
      "execution_count": null,
      "outputs": [
        {
          "name": "stdout",
          "output_type": "stream",
          "text": [
            "8\n"
          ]
        },
        {
          "output_type": "execute_result",
          "data": {
            "text/plain": [
              "'8'"
            ],
            "application/vnd.google.colaboratory.intrinsic+json": {
              "type": "string"
            }
          },
          "metadata": {},
          "execution_count": 65
        }
      ]
    },
    {
      "cell_type": "markdown",
      "source": [
        "☺️ After running the code below, can you tell what the resulting output means?"
      ],
      "metadata": {
        "id": "-Z1mQqzlH4k5"
      }
    },
    {
      "cell_type": "code",
      "source": [
        "yournumber*5"
      ],
      "metadata": {
        "colab": {
          "base_uri": "https://localhost:8080/",
          "height": 35
        },
        "id": "5cGgSs3qHxG_",
        "outputId": "a5d85232-8b51-47e6-e651-6a4996c891b4"
      },
      "execution_count": null,
      "outputs": [
        {
          "output_type": "execute_result",
          "data": {
            "text/plain": [
              "'88888'"
            ],
            "application/vnd.google.colaboratory.intrinsic+json": {
              "type": "string"
            }
          },
          "metadata": {},
          "execution_count": 66
        }
      ]
    },
    {
      "cell_type": "code",
      "source": [
        "type(yournumber)"
      ],
      "metadata": {
        "colab": {
          "base_uri": "https://localhost:8080/"
        },
        "id": "664rKEalISSY",
        "outputId": "6daed61f-a115-47b0-af33-8609928de950"
      },
      "execution_count": null,
      "outputs": [
        {
          "output_type": "execute_result",
          "data": {
            "text/plain": [
              "str"
            ]
          },
          "metadata": {},
          "execution_count": 68
        }
      ]
    },
    {
      "cell_type": "code",
      "source": [
        "yournumber = int(yournumber) # changing the type of the value to integer\n",
        "type(yournumber)"
      ],
      "metadata": {
        "colab": {
          "base_uri": "https://localhost:8080/"
        },
        "id": "u_ocEyoAIVC4",
        "outputId": "cf11d4b0-6d37-4b43-96e2-9d7fc015c73e"
      },
      "execution_count": null,
      "outputs": [
        {
          "output_type": "execute_result",
          "data": {
            "text/plain": [
              "int"
            ]
          },
          "metadata": {},
          "execution_count": 69
        }
      ]
    },
    {
      "cell_type": "code",
      "source": [
        "yournumber * 5\n"
      ],
      "metadata": {
        "id": "VTf6GR_PZber",
        "outputId": "ffb7b7a0-2a62-46fb-f89d-46cee32b2b55",
        "colab": {
          "base_uri": "https://localhost:8080/"
        }
      },
      "execution_count": null,
      "outputs": [
        {
          "output_type": "execute_result",
          "data": {
            "text/plain": [
              "40"
            ]
          },
          "metadata": {},
          "execution_count": 70
        }
      ]
    },
    {
      "cell_type": "markdown",
      "source": [
        "Getting output:"
      ],
      "metadata": {
        "id": "Z9Kzd8ZW7Bri"
      }
    },
    {
      "cell_type": "code",
      "source": [
        "# print() 함수 배우기\n",
        "print(\"대한민국\")\n",
        "\n",
        "a2 = \"화이팅!\"  # a1: variable(변수)\n",
        "print(a2)\n",
        "print(a2*10)\n",
        "print(\"화이팅 10번 합시다: \", a2*10)\n",
        "a2"
      ],
      "metadata": {
        "id": "aQXDo7u-4-18",
        "outputId": "7579aef4-07c2-4320-cffa-c634877a69d2",
        "colab": {
          "base_uri": "https://localhost:8080/",
          "height": 109
        }
      },
      "execution_count": null,
      "outputs": [
        {
          "output_type": "stream",
          "name": "stdout",
          "text": [
            "대한민국\n",
            "화이팅!\n",
            "화이팅!화이팅!화이팅!화이팅!화이팅!화이팅!화이팅!화이팅!화이팅!화이팅!\n",
            "화이팅 10번 합시다:  화이팅!화이팅!화이팅!화이팅!화이팅!화이팅!화이팅!화이팅!화이팅!화이팅!\n"
          ]
        },
        {
          "output_type": "execute_result",
          "data": {
            "text/plain": [
              "'화이팅!'"
            ],
            "application/vnd.google.colaboratory.intrinsic+json": {
              "type": "string"
            }
          },
          "metadata": {},
          "execution_count": 71
        }
      ]
    },
    {
      "cell_type": "code",
      "source": [
        "print(a2)\n",
        "print(\"*\"*30)\n",
        "a1=random.randint(1,10)\n",
        "print(\"Random integer between 1 and 10:\", a1)"
      ],
      "metadata": {
        "colab": {
          "base_uri": "https://localhost:8080/"
        },
        "id": "0jdQu65F2ZWw",
        "outputId": "3cb6dadd-95e9-4579-de55-b028b53a2243"
      },
      "execution_count": null,
      "outputs": [
        {
          "output_type": "stream",
          "name": "stdout",
          "text": [
            "화이팅!\n",
            "******************************\n",
            "Random integer between 1 and 10: 2\n"
          ]
        }
      ]
    },
    {
      "cell_type": "markdown",
      "source": [
        "☺️DIY: \n",
        "**Q: John and Mary have been together for many days. Ask Mary how many days it has been since she met John. Then you tell Mary how many hours it has been since she met John.**\n",
        "\n",
        "1. Set the variable 'day' to 24\n",
        "2. Set the variable 'num_day' for the input from the user. Get a number (number of days) from the user using input() function\n",
        "2. Calculate days to hours: set the variable 'hours' to the final result."
      ],
      "metadata": {
        "id": "cvkWAvetFtSP"
      }
    },
    {
      "cell_type": "code",
      "source": [
        "day = input ()\n",
        "num_day = int(day)\n",
        "hours = 24\n",
        "print(\"The total hours passed since Mary met John are: \", hours * num_day , \"hours.\")"
      ],
      "metadata": {
        "id": "Fdezo9WD1zju",
        "outputId": "add9b4fb-c9b0-4797-8313-cd88869db6a3",
        "colab": {
          "base_uri": "https://localhost:8080/"
        }
      },
      "execution_count": null,
      "outputs": [
        {
          "output_type": "stream",
          "name": "stdout",
          "text": [
            "14\n",
            "The total hours passed since Mary met John are:  336 hours.\n"
          ]
        }
      ]
    },
    {
      "cell_type": "markdown",
      "source": [
        "#[2] String manipulation: strip() and .lower().\n",
        "\n"
      ],
      "metadata": {
        "id": "zzkVAfU61HDk"
      }
    },
    {
      "cell_type": "markdown",
      "source": [
        "### **data.strip()**\n",
        "\n",
        "+ In Python, strip() is a built-in string method that returns a copy of the string with leading and trailing characters removed. \n",
        "+ By default, strip() removes whitespace characters such as spaces, tabs, and newlines from the beginning and end of the string."
      ],
      "metadata": {
        "id": "sSi_PvE5LTeC"
      }
    },
    {
      "cell_type": "code",
      "source": [
        "w1 = \" Mary is friendly. \"\n",
        "w1"
      ],
      "metadata": {
        "colab": {
          "base_uri": "https://localhost:8080/",
          "height": 35
        },
        "id": "IUtU-qG81XIt",
        "outputId": "45714dc4-262d-4593-f909-1efd971e9a73"
      },
      "execution_count": 1,
      "outputs": [
        {
          "output_type": "execute_result",
          "data": {
            "text/plain": [
              "' Mary is friendly. '"
            ],
            "application/vnd.google.colaboratory.intrinsic+json": {
              "type": "string"
            }
          },
          "metadata": {},
          "execution_count": 1
        }
      ]
    },
    {
      "cell_type": "code",
      "source": [
        "w1.strip()"
      ],
      "metadata": {
        "colab": {
          "base_uri": "https://localhost:8080/",
          "height": 35
        },
        "id": "ZAhdPbqVKr6e",
        "outputId": "7ac93186-c53b-4dea-defc-8ad98b1e427a"
      },
      "execution_count": 3,
      "outputs": [
        {
          "output_type": "execute_result",
          "data": {
            "text/plain": [
              "'Mary is friendly.'"
            ],
            "application/vnd.google.colaboratory.intrinsic+json": {
              "type": "string"
            }
          },
          "metadata": {},
          "execution_count": 3
        }
      ]
    },
    {
      "cell_type": "markdown",
      "source": [
        "> strip : 필요한 데이터만 정제하는 기능\n"
      ],
      "metadata": {
        "id": "OKrCA9OQhcmE"
      }
    },
    {
      "cell_type": "markdown",
      "source": [
        "### **data.split()**"
      ],
      "metadata": {
        "id": "JGPdtmu8MFgv"
      }
    },
    {
      "cell_type": "code",
      "source": [
        "w1 = \"Mary is friendly.\"\n",
        "w2 = w1.split()\n",
        "print(w2)\n",
        "type(w2)"
      ],
      "metadata": {
        "colab": {
          "base_uri": "https://localhost:8080/"
        },
        "id": "xbF1sJB9MIpw",
        "outputId": "2289e9a1-1edc-4e13-9ee4-6a581c7685c5"
      },
      "execution_count": 8,
      "outputs": [
        {
          "output_type": "stream",
          "name": "stdout",
          "text": [
            "['Mary', 'is', 'friendly.']\n"
          ]
        },
        {
          "output_type": "execute_result",
          "data": {
            "text/plain": [
              "list"
            ]
          },
          "metadata": {},
          "execution_count": 8
        }
      ]
    },
    {
      "cell_type": "markdown",
      "source": [
        "> str 변수 입력 후 **.split( )**\n",
        "\n",
        "> 결과 값은 list\n",
        "\n",
        "\n"
      ],
      "metadata": {
        "id": "-UBPNywsh7Yr"
      }
    },
    {
      "cell_type": "code",
      "source": [
        "w2 = \"out-of-date\"\n",
        "mysplit = w2.split('-')\n",
        "print(mysplit)"
      ],
      "metadata": {
        "colab": {
          "base_uri": "https://localhost:8080/"
        },
        "id": "IudKgTjkMVQP",
        "outputId": "83f46c15-ca11-410b-9a40-a55ac6ab05e5"
      },
      "execution_count": 12,
      "outputs": [
        {
          "output_type": "stream",
          "name": "stdout",
          "text": [
            "['out', 'of', 'date']\n"
          ]
        }
      ]
    },
    {
      "cell_type": "code",
      "source": [
        "w1 = \"Mary\"\n",
        "w2 = \"is\"\n",
        "w3 = \"friendly\""
      ],
      "metadata": {
        "id": "tGBOKKKtLvj7"
      },
      "execution_count": 10,
      "outputs": []
    },
    {
      "cell_type": "code",
      "source": [
        "wordlist = [w1, w2, w3]\n",
        "wordlist"
      ],
      "metadata": {
        "colab": {
          "base_uri": "https://localhost:8080/"
        },
        "id": "c11AXGr0V_a4",
        "outputId": "432bfd93-9025-4b48-f587-ed018815926c"
      },
      "execution_count": 11,
      "outputs": [
        {
          "output_type": "execute_result",
          "data": {
            "text/plain": [
              "['Mary', 'is', 'friendly']"
            ]
          },
          "metadata": {},
          "execution_count": 11
        }
      ]
    },
    {
      "cell_type": "markdown",
      "source": [
        "> 변수를 통해 list 만들기 가능능"
      ],
      "metadata": {
        "id": "BtQ55xUckNvT"
      }
    },
    {
      "cell_type": "markdown",
      "source": [
        "### **' '.join()**"
      ],
      "metadata": {
        "id": "Mb-LFWWPWn08"
      }
    },
    {
      "cell_type": "code",
      "source": [
        "' '.join(wordlist)"
      ],
      "metadata": {
        "colab": {
          "base_uri": "https://localhost:8080/",
          "height": 35
        },
        "id": "tZA7DsPPWGmA",
        "outputId": "5e72aac0-db16-4af5-80a6-f0ba57544adf"
      },
      "execution_count": 13,
      "outputs": [
        {
          "output_type": "execute_result",
          "data": {
            "text/plain": [
              "'Mary is friendly'"
            ],
            "application/vnd.google.colaboratory.intrinsic+json": {
              "type": "string"
            }
          },
          "metadata": {},
          "execution_count": 13
        }
      ]
    },
    {
      "cell_type": "markdown",
      "source": [
        ">  스페이스 단위로 wordlist join 함  > **.join(변수)**"
      ],
      "metadata": {
        "id": "s3yHO7lYkmAS"
      }
    },
    {
      "cell_type": "code",
      "source": [
        "'-'.join(wordlist)"
      ],
      "metadata": {
        "colab": {
          "base_uri": "https://localhost:8080/",
          "height": 35
        },
        "id": "EjLtWSL5WdYy",
        "outputId": "c9ea2e7f-28b3-4b5b-f9bb-09bdceb119a2"
      },
      "execution_count": 14,
      "outputs": [
        {
          "output_type": "execute_result",
          "data": {
            "text/plain": [
              "'Mary-is-friendly'"
            ],
            "application/vnd.google.colaboratory.intrinsic+json": {
              "type": "string"
            }
          },
          "metadata": {},
          "execution_count": 14
        }
      ]
    },
    {
      "cell_type": "code",
      "source": [
        "' '.join(mysplit)"
      ],
      "metadata": {
        "id": "7HyJMdoNk2tb",
        "outputId": "ff819d39-80cc-4fc0-8cda-4958a791507a",
        "colab": {
          "base_uri": "https://localhost:8080/",
          "height": 35
        }
      },
      "execution_count": 15,
      "outputs": [
        {
          "output_type": "execute_result",
          "data": {
            "text/plain": [
              "'out of date'"
            ],
            "application/vnd.google.colaboratory.intrinsic+json": {
              "type": "string"
            }
          },
          "metadata": {},
          "execution_count": 15
        }
      ]
    },
    {
      "cell_type": "markdown",
      "source": [
        "### **data.lower(), data.upper()**"
      ],
      "metadata": {
        "id": "PgCIMbbcL29X"
      }
    },
    {
      "cell_type": "markdown",
      "source": [
        "> lower - 소문자, upper - 대문자자"
      ],
      "metadata": {
        "id": "Y_YAda5nk_4L"
      }
    },
    {
      "cell_type": "code",
      "source": [
        "w1.lower()"
      ],
      "metadata": {
        "colab": {
          "base_uri": "https://localhost:8080/",
          "height": 35
        },
        "id": "JGqTVM22MuH0",
        "outputId": "cad0a3a9-b68c-45f8-e33b-f8583ede3d52"
      },
      "execution_count": 16,
      "outputs": [
        {
          "output_type": "execute_result",
          "data": {
            "text/plain": [
              "'mary'"
            ],
            "application/vnd.google.colaboratory.intrinsic+json": {
              "type": "string"
            }
          },
          "metadata": {},
          "execution_count": 16
        }
      ]
    },
    {
      "cell_type": "code",
      "source": [
        "w1.upper()"
      ],
      "metadata": {
        "colab": {
          "base_uri": "https://localhost:8080/",
          "height": 35
        },
        "id": "fP2lBss3Myhq",
        "outputId": "03c2fb6c-32b3-4874-a54a-941ca98bc180"
      },
      "execution_count": 17,
      "outputs": [
        {
          "output_type": "execute_result",
          "data": {
            "text/plain": [
              "'MARY'"
            ],
            "application/vnd.google.colaboratory.intrinsic+json": {
              "type": "string"
            }
          },
          "metadata": {},
          "execution_count": 17
        }
      ]
    },
    {
      "cell_type": "markdown",
      "source": [
        "string index"
      ],
      "metadata": {
        "id": "yZJk2NtCM_oz"
      }
    },
    {
      "cell_type": "code",
      "source": [
        "len(w1) #number of string"
      ],
      "metadata": {
        "colab": {
          "base_uri": "https://localhost:8080/"
        },
        "id": "HmuiXLZSNGNa",
        "outputId": "e560ff8e-c214-4e32-bfab-4f81d4fbfdc0"
      },
      "execution_count": 18,
      "outputs": [
        {
          "output_type": "execute_result",
          "data": {
            "text/plain": [
              "4"
            ]
          },
          "metadata": {},
          "execution_count": 18
        }
      ]
    },
    {
      "cell_type": "code",
      "source": [
        "w1[0] #1st string"
      ],
      "metadata": {
        "colab": {
          "base_uri": "https://localhost:8080/",
          "height": 35
        },
        "id": "xiyozLYxM6xk",
        "outputId": "860d1d69-7ca8-4cac-e9e7-4b24397570b3"
      },
      "execution_count": 19,
      "outputs": [
        {
          "output_type": "execute_result",
          "data": {
            "text/plain": [
              "'M'"
            ],
            "application/vnd.google.colaboratory.intrinsic+json": {
              "type": "string"
            }
          },
          "metadata": {},
          "execution_count": 19
        }
      ]
    },
    {
      "cell_type": "code",
      "source": [
        "w1[-1]"
      ],
      "metadata": {
        "colab": {
          "base_uri": "https://localhost:8080/",
          "height": 35
        },
        "id": "AY_Ii7FhNeof",
        "outputId": "81579f50-97dd-455f-8128-bb0d3cbe87f4"
      },
      "execution_count": 20,
      "outputs": [
        {
          "output_type": "execute_result",
          "data": {
            "text/plain": [
              "'y'"
            ],
            "application/vnd.google.colaboratory.intrinsic+json": {
              "type": "string"
            }
          },
          "metadata": {},
          "execution_count": 20
        }
      ]
    },
    {
      "cell_type": "code",
      "source": [
        "w1[0:]"
      ],
      "metadata": {
        "id": "vhfF3iXwNijx",
        "outputId": "cc5e9ac5-66c6-438d-8577-c97dc09d1240",
        "colab": {
          "base_uri": "https://localhost:8080/",
          "height": 35
        }
      },
      "execution_count": 21,
      "outputs": [
        {
          "output_type": "execute_result",
          "data": {
            "text/plain": [
              "'Mary'"
            ],
            "application/vnd.google.colaboratory.intrinsic+json": {
              "type": "string"
            }
          },
          "metadata": {},
          "execution_count": 21
        }
      ]
    },
    {
      "cell_type": "code",
      "source": [
        "w1[:]"
      ],
      "metadata": {
        "id": "pW4m0FoyNlf4",
        "outputId": "3e2ef126-798c-4fd4-d0c7-127763642ff4",
        "colab": {
          "base_uri": "https://localhost:8080/",
          "height": 35
        }
      },
      "execution_count": 22,
      "outputs": [
        {
          "output_type": "execute_result",
          "data": {
            "text/plain": [
              "'Mary'"
            ],
            "application/vnd.google.colaboratory.intrinsic+json": {
              "type": "string"
            }
          },
          "metadata": {},
          "execution_count": 22
        }
      ]
    },
    {
      "cell_type": "code",
      "source": [
        "w1[1:3]"
      ],
      "metadata": {
        "id": "tgp9ozDdNpwd",
        "outputId": "587c0340-0bf4-41a6-810a-2db59a495cd4",
        "colab": {
          "base_uri": "https://localhost:8080/",
          "height": 35
        }
      },
      "execution_count": 23,
      "outputs": [
        {
          "output_type": "execute_result",
          "data": {
            "text/plain": [
              "'ar'"
            ],
            "application/vnd.google.colaboratory.intrinsic+json": {
              "type": "string"
            }
          },
          "metadata": {},
          "execution_count": 23
        }
      ]
    },
    {
      "cell_type": "code",
      "source": [
        "w = \"MARY\"\n",
        "ini = w[1:4] .lower()\n",
        "ini\n",
        "w = w[0] + ini\n",
        "print(w)\n",
        "\n",
        "ini = w[0].upper()\n",
        "w = ini + w[1:].lower()\n",
        "print(w)"
      ],
      "metadata": {
        "id": "0Su3TuHfPxwh",
        "outputId": "c54e614b-c2cc-4d55-b699-3f172cf577f7",
        "colab": {
          "base_uri": "https://localhost:8080/"
        }
      },
      "execution_count": 39,
      "outputs": [
        {
          "output_type": "stream",
          "name": "stdout",
          "text": [
            "Mary\n",
            "Mary\n"
          ]
        }
      ]
    },
    {
      "cell_type": "markdown",
      "source": [
        "☺️ DIY: Convert a statement to a yes-no question (e.g., Mary is smart. Tom is smiling. Jane is late.)"
      ],
      "metadata": {
        "id": "lGVkVdCLNMz0"
      }
    },
    {
      "cell_type": "code",
      "source": [
        "w1 = \"Mary is friendly .\"\n",
        "w2 = w1.strip( )\n",
        "w3 = w2.split( )\n",
        "print (w3)\n",
        "a1 = \"Mary\"\n",
        "a2 = \"is\" \n",
        "a3 = \"friendly\"\n",
        "a4 = \"?\""
      ],
      "metadata": {
        "id": "nz1VNUviNXaJ",
        "outputId": "0874e983-6c4a-4b62-bc46-6337641f97ed",
        "colab": {
          "base_uri": "https://localhost:8080/"
        }
      },
      "execution_count": 53,
      "outputs": [
        {
          "output_type": "stream",
          "name": "stdout",
          "text": [
            "['Mary', 'is', 'friendly', '.']\n"
          ]
        }
      ]
    },
    {
      "cell_type": "code",
      "source": [
        "a1 .lower()\n",
        "ini = a2[0] .upper()\n",
        "ini\n",
        "a2 = ini + a2[1:]\n",
        "print(a1, a2)"
      ],
      "metadata": {
        "id": "L0Rb4F9enH9b",
        "outputId": "251ba04d-c8c4-4ce8-95cd-451e86fc0797",
        "colab": {
          "base_uri": "https://localhost:8080/"
        }
      },
      "execution_count": 61,
      "outputs": [
        {
          "output_type": "stream",
          "name": "stdout",
          "text": [
            "Mary II\n"
          ]
        }
      ]
    }
  ]
}