{
  "nbformat": 4,
  "nbformat_minor": 0,
  "metadata": {
    "colab": {
      "provenance": [],
      "include_colab_link": true
    },
    "kernelspec": {
      "name": "python3",
      "display_name": "Python 3"
    },
    "language_info": {
      "name": "python"
    }
  },
  "cells": [
    {
      "cell_type": "markdown",
      "metadata": {
        "id": "view-in-github",
        "colab_type": "text"
      },
      "source": [
        "<a href=\"https://colab.research.google.com/github/bsh128/DL23/blob/main/DL/DLW02d.ipynb\" target=\"_parent\"><img src=\"https://colab.research.google.com/assets/colab-badge.svg\" alt=\"Open In Colab\"/></a>"
      ]
    },
    {
      "cell_type": "markdown",
      "source": [
        "---\n",
        "# 📗 Topic [2]: Coding basic #2\n",
        "---\n",
        "Keywords:\n",
        "\n",
        "+ variables\n",
        "+ **operators**\n",
        "+ **data types: list and dictionary**"
      ],
      "metadata": {
        "id": "k4A5_MYHpcNQ"
      }
    },
    {
      "cell_type": "markdown",
      "source": [
        "Your github IDs [here](https://docs.google.com/spreadsheets/d/17SX51lCqOdtvC7cAGoX5tP9fKwVdGY5sRzMg2pXh9uk/edit#gid=0) - revised 0327"
      ],
      "metadata": {
        "id": "mUVgzk50XMkt"
      }
    },
    {
      "cell_type": "markdown",
      "source": [
        "## [1] Variables"
      ],
      "metadata": {
        "id": "93gQaEo1RX63"
      }
    },
    {
      "cell_type": "markdown",
      "source": [
        "+ **A variable** is a named storage location that holds a value.\n",
        "+ Variables can be used **to store values** such as numbers, strings, lists, or other data types. \n",
        "+ The value of a variable can change throughout the execution of a program. \n",
        "+ To declare a variable in Python, you need to assign a value to it using the **equal (=) sign.**"
      ],
      "metadata": {
        "id": "jJT4hD1teuJr"
      }
    },
    {
      "cell_type": "code",
      "source": [
        "x = 10\n",
        "y = \"Hello, class!\"\n",
        "z = [1, 2, 3]"
      ],
      "metadata": {
        "id": "Xes87bY2X45M"
      },
      "execution_count": 1,
      "outputs": []
    },
    {
      "cell_type": "markdown",
      "source": [
        "↗️ In the above example, 'x' is assigned the value of 10, 'y' is assigned the value of \"Hello, World!\", and 'z' is assigned the value of [1, 2, 3]."
      ],
      "metadata": {
        "id": "ulw6QsP5ZiKp"
      }
    },
    {
      "cell_type": "code",
      "source": [
        "# We can assign a link or a function\n",
        "import pandas as pd\n",
        "url = \"https://github.com/MK316/Spring2023/raw/main/data/att_sample.csv\"\n",
        "data = pd.read_csv(url)\n",
        "data"
      ],
      "metadata": {
        "id": "_7bvpJt2aQmg",
        "outputId": "50bf94a3-a030-4a95-8ae5-571418f39eb3",
        "colab": {
          "base_uri": "https://localhost:8080/",
          "height": 488
        }
      },
      "execution_count": 2,
      "outputs": [
        {
          "output_type": "execute_result",
          "data": {
            "text/plain": [
              "      Names\n",
              "0      Mary\n",
              "1      John\n",
              "2       Tim\n",
              "3       Bob\n",
              "4     Sarah\n",
              "5      Kate\n",
              "6     Marie\n",
              "7   Johnson\n",
              "8      Mike\n",
              "9     Harry\n",
              "10      Jin\n",
              "11      Sam\n",
              "12     Paul\n",
              "13  Natalie"
            ],
            "text/html": [
              "\n",
              "  <div id=\"df-7c140fc6-875e-41c7-9cf8-145dd5a7f9ee\">\n",
              "    <div class=\"colab-df-container\">\n",
              "      <div>\n",
              "<style scoped>\n",
              "    .dataframe tbody tr th:only-of-type {\n",
              "        vertical-align: middle;\n",
              "    }\n",
              "\n",
              "    .dataframe tbody tr th {\n",
              "        vertical-align: top;\n",
              "    }\n",
              "\n",
              "    .dataframe thead th {\n",
              "        text-align: right;\n",
              "    }\n",
              "</style>\n",
              "<table border=\"1\" class=\"dataframe\">\n",
              "  <thead>\n",
              "    <tr style=\"text-align: right;\">\n",
              "      <th></th>\n",
              "      <th>Names</th>\n",
              "    </tr>\n",
              "  </thead>\n",
              "  <tbody>\n",
              "    <tr>\n",
              "      <th>0</th>\n",
              "      <td>Mary</td>\n",
              "    </tr>\n",
              "    <tr>\n",
              "      <th>1</th>\n",
              "      <td>John</td>\n",
              "    </tr>\n",
              "    <tr>\n",
              "      <th>2</th>\n",
              "      <td>Tim</td>\n",
              "    </tr>\n",
              "    <tr>\n",
              "      <th>3</th>\n",
              "      <td>Bob</td>\n",
              "    </tr>\n",
              "    <tr>\n",
              "      <th>4</th>\n",
              "      <td>Sarah</td>\n",
              "    </tr>\n",
              "    <tr>\n",
              "      <th>5</th>\n",
              "      <td>Kate</td>\n",
              "    </tr>\n",
              "    <tr>\n",
              "      <th>6</th>\n",
              "      <td>Marie</td>\n",
              "    </tr>\n",
              "    <tr>\n",
              "      <th>7</th>\n",
              "      <td>Johnson</td>\n",
              "    </tr>\n",
              "    <tr>\n",
              "      <th>8</th>\n",
              "      <td>Mike</td>\n",
              "    </tr>\n",
              "    <tr>\n",
              "      <th>9</th>\n",
              "      <td>Harry</td>\n",
              "    </tr>\n",
              "    <tr>\n",
              "      <th>10</th>\n",
              "      <td>Jin</td>\n",
              "    </tr>\n",
              "    <tr>\n",
              "      <th>11</th>\n",
              "      <td>Sam</td>\n",
              "    </tr>\n",
              "    <tr>\n",
              "      <th>12</th>\n",
              "      <td>Paul</td>\n",
              "    </tr>\n",
              "    <tr>\n",
              "      <th>13</th>\n",
              "      <td>Natalie</td>\n",
              "    </tr>\n",
              "  </tbody>\n",
              "</table>\n",
              "</div>\n",
              "      <button class=\"colab-df-convert\" onclick=\"convertToInteractive('df-7c140fc6-875e-41c7-9cf8-145dd5a7f9ee')\"\n",
              "              title=\"Convert this dataframe to an interactive table.\"\n",
              "              style=\"display:none;\">\n",
              "        \n",
              "  <svg xmlns=\"http://www.w3.org/2000/svg\" height=\"24px\"viewBox=\"0 0 24 24\"\n",
              "       width=\"24px\">\n",
              "    <path d=\"M0 0h24v24H0V0z\" fill=\"none\"/>\n",
              "    <path d=\"M18.56 5.44l.94 2.06.94-2.06 2.06-.94-2.06-.94-.94-2.06-.94 2.06-2.06.94zm-11 1L8.5 8.5l.94-2.06 2.06-.94-2.06-.94L8.5 2.5l-.94 2.06-2.06.94zm10 10l.94 2.06.94-2.06 2.06-.94-2.06-.94-.94-2.06-.94 2.06-2.06.94z\"/><path d=\"M17.41 7.96l-1.37-1.37c-.4-.4-.92-.59-1.43-.59-.52 0-1.04.2-1.43.59L10.3 9.45l-7.72 7.72c-.78.78-.78 2.05 0 2.83L4 21.41c.39.39.9.59 1.41.59.51 0 1.02-.2 1.41-.59l7.78-7.78 2.81-2.81c.8-.78.8-2.07 0-2.86zM5.41 20L4 18.59l7.72-7.72 1.47 1.35L5.41 20z\"/>\n",
              "  </svg>\n",
              "      </button>\n",
              "      \n",
              "  <style>\n",
              "    .colab-df-container {\n",
              "      display:flex;\n",
              "      flex-wrap:wrap;\n",
              "      gap: 12px;\n",
              "    }\n",
              "\n",
              "    .colab-df-convert {\n",
              "      background-color: #E8F0FE;\n",
              "      border: none;\n",
              "      border-radius: 50%;\n",
              "      cursor: pointer;\n",
              "      display: none;\n",
              "      fill: #1967D2;\n",
              "      height: 32px;\n",
              "      padding: 0 0 0 0;\n",
              "      width: 32px;\n",
              "    }\n",
              "\n",
              "    .colab-df-convert:hover {\n",
              "      background-color: #E2EBFA;\n",
              "      box-shadow: 0px 1px 2px rgba(60, 64, 67, 0.3), 0px 1px 3px 1px rgba(60, 64, 67, 0.15);\n",
              "      fill: #174EA6;\n",
              "    }\n",
              "\n",
              "    [theme=dark] .colab-df-convert {\n",
              "      background-color: #3B4455;\n",
              "      fill: #D2E3FC;\n",
              "    }\n",
              "\n",
              "    [theme=dark] .colab-df-convert:hover {\n",
              "      background-color: #434B5C;\n",
              "      box-shadow: 0px 1px 3px 1px rgba(0, 0, 0, 0.15);\n",
              "      filter: drop-shadow(0px 1px 2px rgba(0, 0, 0, 0.3));\n",
              "      fill: #FFFFFF;\n",
              "    }\n",
              "  </style>\n",
              "\n",
              "      <script>\n",
              "        const buttonEl =\n",
              "          document.querySelector('#df-7c140fc6-875e-41c7-9cf8-145dd5a7f9ee button.colab-df-convert');\n",
              "        buttonEl.style.display =\n",
              "          google.colab.kernel.accessAllowed ? 'block' : 'none';\n",
              "\n",
              "        async function convertToInteractive(key) {\n",
              "          const element = document.querySelector('#df-7c140fc6-875e-41c7-9cf8-145dd5a7f9ee');\n",
              "          const dataTable =\n",
              "            await google.colab.kernel.invokeFunction('convertToInteractive',\n",
              "                                                     [key], {});\n",
              "          if (!dataTable) return;\n",
              "\n",
              "          const docLinkHtml = 'Like what you see? Visit the ' +\n",
              "            '<a target=\"_blank\" href=https://colab.research.google.com/notebooks/data_table.ipynb>data table notebook</a>'\n",
              "            + ' to learn more about interactive tables.';\n",
              "          element.innerHTML = '';\n",
              "          dataTable['output_type'] = 'display_data';\n",
              "          await google.colab.output.renderOutput(dataTable, element);\n",
              "          const docLink = document.createElement('div');\n",
              "          docLink.innerHTML = docLinkHtml;\n",
              "          element.appendChild(docLink);\n",
              "        }\n",
              "      </script>\n",
              "    </div>\n",
              "  </div>\n",
              "  "
            ]
          },
          "metadata": {},
          "execution_count": 2
        }
      ]
    },
    {
      "cell_type": "markdown",
      "source": [
        "+ url, data도 변수\n",
        "+ commmenting: 인간이 이해하는 언어 # 붙이고 작성\n",
        "+ uncommenting: ctrl #"
      ],
      "metadata": {
        "id": "3jnmAXkUVCuz"
      }
    },
    {
      "cell_type": "markdown",
      "source": [
        "## Commenting '#'\n",
        "\n",
        "- In Python, the # symbol is used to indicate comment lines. A comment is a line of text in a code that is ignored by the Python interpreter and is used to provide explanations or notes for the reader of the code.\n",
        "\n",
        "## Uncommenting shortcut: \n",
        "* \"Ctrl + /\" (Place the cursor on the code line and press the Control + / key.)"
      ],
      "metadata": {
        "id": "xZv9R8I8ZWvt"
      }
    },
    {
      "cell_type": "code",
      "source": [
        "# This is a comment in /\n",
        "x = 10 # this is also a /"
      ],
      "metadata": {
        "id": "7UJmbmmTaFx9"
      },
      "execution_count": 8,
      "outputs": []
    },
    {
      "cell_type": "code",
      "source": [
        "x1 = x * 10\n",
        "x2 = x + 5\n",
        "\n",
        "#print(x1) # Print the value of x1\n",
        "# print(x1, x2) # Print the values of x1 and x2"
      ],
      "metadata": {
        "id": "Ivc72tB0X_TS"
      },
      "execution_count": 6,
      "outputs": []
    },
    {
      "cell_type": "code",
      "source": [
        "print(y)\n",
        "# y1 = y + \"Welcome to the class.\"\n",
        " \n",
        "x= \"John\" \n",
        "y = \"came in\"\n",
        "z1 = x +\" \"+ y\n",
        "print(y1, z1)"
      ],
      "metadata": {
        "id": "cxePqv-52RU0",
        "outputId": "abaf9524-1ab1-4e19-9c8c-0e71b0845204",
        "colab": {
          "base_uri": "https://localhost:8080/"
        }
      },
      "execution_count": 23,
      "outputs": [
        {
          "output_type": "stream",
          "name": "stdout",
          "text": [
            "3\n",
            "3 John came in\n"
          ]
        }
      ]
    },
    {
      "cell_type": "markdown",
      "source": [
        "Input types:\n",
        "\n",
        "* integer: e.g., -3, 1, 0, 234, etc.\n",
        "* float: e.g., -3.0, 1.2, 0, 3.141592653589793238, etc.\n",
        "* string: (characters) \"1\", '0', \"3.29\", \"Mary\", \"euphoria\", 'My name is Jane.'\n",
        "\n",
        "_Note:_ double or single quotation marks denote **string** data. (Open and close should match.)"
      ],
      "metadata": {
        "id": "4zDbyBHbeQsq"
      }
    },
    {
      "cell_type": "markdown",
      "source": [
        "+ float 소수\n",
        "+ str 문자열\n",
        "+ integer 정수"
      ],
      "metadata": {
        "id": "spTXR8LNXgSe"
      }
    },
    {
      "cell_type": "code",
      "source": [
        "# DIY\n",
        "x = 1\n",
        "y = 3\n",
        "z = x + y\n",
        "print(z)\n",
        "\n",
        "x1 = \"1\"\n",
        "y1 = \"3\"\n",
        "z1 = x1 + y1\n",
        "print(z1)"
      ],
      "metadata": {
        "colab": {
          "base_uri": "https://localhost:8080/"
        },
        "id": "yzZuC29QfP3T",
        "outputId": "32306711-5d80-45f6-9a85-189ae7840dd8"
      },
      "execution_count": 21,
      "outputs": [
        {
          "output_type": "stream",
          "name": "stdout",
          "text": [
            "4\n",
            "13\n"
          ]
        }
      ]
    },
    {
      "cell_type": "code",
      "source": [
        "type(z)"
      ],
      "metadata": {
        "colab": {
          "base_uri": "https://localhost:8080/"
        },
        "id": "qwDb8cf5fkKi",
        "outputId": "6b38ad06-4b7b-47f1-aa55-c1ab76b1f570"
      },
      "execution_count": 24,
      "outputs": [
        {
          "output_type": "execute_result",
          "data": {
            "text/plain": [
              "int"
            ]
          },
          "metadata": {},
          "execution_count": 24
        }
      ]
    },
    {
      "cell_type": "code",
      "source": [
        "type(z1)"
      ],
      "metadata": {
        "colab": {
          "base_uri": "https://localhost:8080/"
        },
        "id": "L7sxvSaOfsOt",
        "outputId": "40ad3cb6-b658-4d9e-e1ef-b301e3e72afe"
      },
      "execution_count": 25,
      "outputs": [
        {
          "output_type": "execute_result",
          "data": {
            "text/plain": [
              "str"
            ]
          },
          "metadata": {},
          "execution_count": 25
        }
      ]
    },
    {
      "cell_type": "code",
      "source": [
        "print(type(z), type(z1))"
      ],
      "metadata": {
        "colab": {
          "base_uri": "https://localhost:8080/"
        },
        "id": "bbFaL_GWfwMH",
        "outputId": "7c10a968-23f7-416a-a1e0-86925666e6a8"
      },
      "execution_count": 26,
      "outputs": [
        {
          "output_type": "stream",
          "name": "stdout",
          "text": [
            "<class 'int'> <class 'str'>\n"
          ]
        }
      ]
    },
    {
      "cell_type": "markdown",
      "source": [
        "## [2] Operators\n",
        "\n",
        "* Symbols that perform operations on values and variables. \n",
        "* They are used to perform arithmetic and logical operations, and they can also be used to manipulate and compare values. "
      ],
      "metadata": {
        "id": "5JgA2T2dRft5"
      }
    },
    {
      "cell_type": "markdown",
      "source": [
        "1. Arithmetic Operators: +, -, *, /, %, ** (for exponentiation)\n",
        "2. semicolon ';' - separate multiple statements (code lines) on a single line."
      ],
      "metadata": {
        "id": "NJBgu_O4bczL"
      }
    },
    {
      "cell_type": "code",
      "source": [
        "x = 2; y = 5\n",
        "\n",
        "a1 = x + y\n",
        "a2 = x - y\n",
        "a3 = x * y\n",
        "a4 = x / y\n",
        "a5 = x ** y"
      ],
      "metadata": {
        "id": "dXT3pIzobUHU"
      },
      "execution_count": 27,
      "outputs": []
    },
    {
      "cell_type": "code",
      "source": [
        "print(a1, a2, a3, a4, a5)"
      ],
      "metadata": {
        "colab": {
          "base_uri": "https://localhost:8080/"
        },
        "id": "_m3JBsOKd6Uv",
        "outputId": "b40338f5-7a12-4ac5-d821-16b4cd37e2b8"
      },
      "execution_count": 28,
      "outputs": [
        {
          "output_type": "stream",
          "name": "stdout",
          "text": [
            "7 -3 10 0.4 32\n"
          ]
        }
      ]
    },
    {
      "cell_type": "code",
      "source": [
        "print(\"The value of a1:\", a1)"
      ],
      "metadata": {
        "colab": {
          "base_uri": "https://localhost:8080/"
        },
        "id": "5kq7I3nMd0Xi",
        "outputId": "84ab0ae6-9da7-40a9-abfe-903b1906441d"
      },
      "execution_count": 29,
      "outputs": [
        {
          "output_type": "stream",
          "name": "stdout",
          "text": [
            "The value of a1: 7\n"
          ]
        }
      ]
    },
    {
      "cell_type": "markdown",
      "source": [
        "# 🌱 Define a function\n",
        "\n",
        "Demo 🔢 Calculator"
      ],
      "metadata": {
        "id": "Cx1NyWUAybc8"
      }
    },
    {
      "cell_type": "code",
      "source": [
        "# This function adds two numbers\n",
        "def add(x, y):\n",
        "    return x + y\n",
        "\n",
        "# This function subtracts two numbers\n",
        "def subtract(x, y):\n",
        "    return x - y\n",
        "\n",
        "# This function multiplies two numbers\n",
        "def multiply(x, y):\n",
        "    return x * y\n",
        "\n",
        "# This function divides two numbers\n",
        "def divide(x, y):\n",
        "    return x / y\n"
      ],
      "metadata": {
        "id": "Dod3_zgYdsWe"
      },
      "execution_count": 30,
      "outputs": []
    },
    {
      "cell_type": "markdown",
      "source": [
        "+ def = define\n",
        "+ add 함수 \n",
        "+ 논항 argument \n",
        "+: 으로 끝남\n"
      ],
      "metadata": {
        "id": "UAMfBA7mYSHt"
      }
    },
    {
      "cell_type": "code",
      "source": [
        "# DIY: define a function names switch(x, y), where the input x, y changes its position in the output.\n",
        "def switch(x, y):\n",
        "    return print(y, x)"
      ],
      "metadata": {
        "id": "W9CuAaqXgwb5"
      },
      "execution_count": 37,
      "outputs": []
    },
    {
      "cell_type": "code",
      "source": [
        "switch (\"it\", \"is\")"
      ],
      "metadata": {
        "id": "QMjZnbeGZ2iV",
        "outputId": "d1c33e29-b641-433e-dc97-bfc275158479",
        "colab": {
          "base_uri": "https://localhost:8080/"
        }
      },
      "execution_count": 39,
      "outputs": [
        {
          "output_type": "stream",
          "name": "stdout",
          "text": [
            "is it\n"
          ]
        }
      ]
    },
    {
      "cell_type": "markdown",
      "source": [
        "+ ctrl + enter 셀 돌리기\n",
        "+ 각 항에 \"\" 넣기"
      ],
      "metadata": {
        "id": "pvf7BT0sZy7F"
      }
    },
    {
      "cell_type": "code",
      "source": [
        "add(1200,34)"
      ],
      "metadata": {
        "id": "br8NXBwtMpMI",
        "outputId": "1ecdf1e7-d347-4517-b728-a10ec2e6994b",
        "colab": {
          "base_uri": "https://localhost:8080/"
        }
      },
      "execution_count": 32,
      "outputs": [
        {
          "output_type": "execute_result",
          "data": {
            "text/plain": [
              "1234"
            ]
          },
          "metadata": {},
          "execution_count": 32
        }
      ]
    },
    {
      "cell_type": "code",
      "source": [
        "# Test\n",
        "\n",
        "add(2,3)\n",
        "subtract(3,2)\n",
        "multiply(2,3)\n",
        "divide(3,2)"
      ],
      "metadata": {
        "id": "IoHh-U2GBsqH",
        "outputId": "0662ea0d-b683-40ae-d1f7-7baa84a93c27",
        "colab": {
          "base_uri": "https://localhost:8080/"
        }
      },
      "execution_count": 33,
      "outputs": [
        {
          "output_type": "execute_result",
          "data": {
            "text/plain": [
              "1.5"
            ]
          },
          "metadata": {},
          "execution_count": 33
        }
      ]
    },
    {
      "cell_type": "markdown",
      "source": [
        "## Using dropbox format"
      ],
      "metadata": {
        "id": "eOluPoNqCCE1"
      }
    },
    {
      "cell_type": "code",
      "source": [
        "#@markdown 🔄 Making functions: tts('text')\n",
        "%%capture\n",
        "!pip install gTTS\n",
        "from gtts import gTTS\n",
        "from IPython.display import Audio\n",
        "\n",
        "def tts(text):\n",
        "  text_to_say = text\n",
        "\n",
        "  gtts_object = gTTS(text = text_to_say,\n",
        "                     lang = \"en\", tld = \"us\",\n",
        "                    slow = True)\n",
        "  \n",
        "  gtts_object.save(\"E-audio.mp3\")\n",
        "  return Audio(\"E-audio.mp3\")"
      ],
      "metadata": {
        "id": "nRtyN0p6NoKA"
      },
      "execution_count": 44,
      "outputs": []
    },
    {
      "cell_type": "code",
      "source": [
        "func = \"subtract\" #@param = [\"add\",\"subtract\",\"multiply\",\"divide\"]\n",
        "digits = input(\"Type two numbers: (e.g., 3,4)\")\n",
        "digitsplit = digits.split(',')\n",
        "d1 = int(digitsplit[0])\n",
        "d2 = int(digitsplit[1])\n",
        "\n",
        "if func == \"add\":\n",
        "  result = add(d1,d2)\n",
        "  text = \"The addition of %d and %d equals %d.\"%(d1,d2,result)\n",
        "elif func == \"subtract\":\n",
        "  result = subtract(d1,d2)\n",
        "  text = \"If you subtract %d from %d, you get %d.\"%(d2,d1,result)\n",
        "elif func == \"divide\":\n",
        "  result = divide(d1,d2)\n",
        "  text = \"When you divide %d by %d, you get %d.\"%(d1,d2,result)\n",
        "elif func == \"multiply\":\n",
        "  result = multiply(d1,d2)\n",
        "  text = \"%d multiplied by %d is %d.\"%(d1,d2,result)\n",
        "\n",
        "print(text)\n",
        "tts(text)\n",
        "Audio(\"E-audio.mp3\", autoplay = True)"
      ],
      "metadata": {
        "id": "FT47bY6qBo3k",
        "outputId": "0d2de625-fc73-48b5-d489-7c129240dd4d",
        "colab": {
          "base_uri": "https://localhost:8080/",
          "height": 111
        }
      },
      "execution_count": 49,
      "outputs": [
        {
          "output_type": "stream",
          "name": "stdout",
          "text": [
            "Type two numbers: (e.g., 3,4)12345, 234\n",
            "If you subtract 234 from 12345, you get 12111.\n"
          ]
        },
        {
          "output_type": "execute_result",
          "data": {
            "text/plain": [
              "<IPython.lib.display.Audio object>"
            ],
            "text/html": [
              "\n",
              "                <audio  controls=\"controls\" autoplay=\"autoplay\">\n",
              "                    <source src=\"data:audio/mpeg;base64,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\" type=\"audio/mpeg\" />\n",
              "                    Your browser does not support the audio element.\n",
              "                </audio>\n",
              "              "
            ]
          },
          "metadata": {},
          "execution_count": 49
        }
      ]
    },
    {
      "cell_type": "markdown",
      "source": [
        "+ ,autoplay = True (자동재생 기능)"
      ],
      "metadata": {
        "id": "3ort-EWKa9z2"
      }
    },
    {
      "cell_type": "markdown",
      "source": [
        "More operators: <br>\n",
        "* Comparison Operators: ==, !=, <, >, <=, >= <br>\n",
        "* Assignment Operators: =, +=, -=, *=, /=, %= <br>\n",
        "* Logical Operators: and, or, not <br>\n",
        "* Identity Operators: is, is not <br>\n",
        "* Membership Operators: in, not in "
      ],
      "metadata": {
        "id": "sfubu24UbqjH"
      }
    },
    {
      "cell_type": "markdown",
      "source": [
        "# 📗Topic [3] Data types: number, string, list and dictionary\n"
      ],
      "metadata": {
        "id": "3eSrUoglRh6-"
      }
    },
    {
      "cell_type": "markdown",
      "source": [
        "\n",
        "|Data type| |\n",
        "|:--:|:--:|\n",
        "|number|int, float|\n",
        "|string|charcter|\n",
        "|list|[1, 2,4], ['Mary','Tom','Jane'|\n",
        "|dictionary|(key: value), [('English': 80), ('Korean':90)]|\n",
        "|tuple|('zero', 0)|\n"
      ],
      "metadata": {
        "id": "ZVFb5JmJrPXu"
      }
    },
    {
      "cell_type": "code",
      "source": [
        "a1 = 3   # a1 is integer\n",
        "a2 = 3.0 # a2 is float\n",
        "a3 = \"3\" # a3 is string\n",
        "\n",
        "type(a1); type(a2); type(a3)\n",
        "print(type(a1), type(a2), type(a3))"
      ],
      "metadata": {
        "colab": {
          "base_uri": "https://localhost:8080/"
        },
        "id": "g-kvldqENA1e",
        "outputId": "c20e801d-0af3-4555-9f4a-2fdf62c46cf1"
      },
      "execution_count": 52,
      "outputs": [
        {
          "output_type": "stream",
          "name": "stdout",
          "text": [
            "<class 'int'> <class 'float'> <class 'str'>\n"
          ]
        }
      ]
    },
    {
      "cell_type": "markdown",
      "source": [
        "list and index (0, 1, 2,...)"
      ],
      "metadata": {
        "id": "HC_wMsPnNbzs"
      }
    },
    {
      "cell_type": "code",
      "source": [
        "a = [1, \"Mary\", 4, \"John\"]  # This is a list.\n",
        "print(type(a))\n",
        "\n",
        "# a + a"
      ],
      "metadata": {
        "colab": {
          "base_uri": "https://localhost:8080/"
        },
        "id": "LyTw7phONZHE",
        "outputId": "9ce4d37d-7e2a-4763-9260-bbc1e8e39ea4"
      },
      "execution_count": 56,
      "outputs": [
        {
          "output_type": "stream",
          "name": "stdout",
          "text": [
            "<class 'list'>\n"
          ]
        }
      ]
    },
    {
      "cell_type": "markdown",
      "source": [
        "* index: Python index starts from '0'\n",
        "\n",
        "e.g., a = [1, 2, 3, 4]"
      ],
      "metadata": {
        "id": "-fL-pJvj7NW8"
      }
    },
    {
      "cell_type": "code",
      "source": [
        "# a[0]\n",
        "# type(a[0])\n",
        "# type(a[1])\n",
        "# a[0] + a[2]\n",
        "# a[0] + a[1] # int + str = error"
      ],
      "metadata": {
        "id": "9Z5zLDGc7X13"
      },
      "execution_count": 59,
      "outputs": []
    },
    {
      "cell_type": "markdown",
      "source": [
        "[Github accounts](https://raw.githubusercontent.com/MK316/Spring2023/main/DL/files/DL_github.csv)"
      ],
      "metadata": {
        "id": "S-KG49Zaim0S"
      }
    },
    {
      "cell_type": "markdown",
      "source": [
        "\n",
        "\n",
        "---\n",
        "# The End\n"
      ],
      "metadata": {
        "id": "3cZjH9xIiN4_"
      }
    }
  ]
}