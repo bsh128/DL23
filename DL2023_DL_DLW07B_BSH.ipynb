{
  "nbformat": 4,
  "nbformat_minor": 0,
  "metadata": {
    "colab": {
      "provenance": [],
      "authorship_tag": "ABX9TyNd3/ThVnNDWxo3QtSlax6k",
      "include_colab_link": true
    },
    "kernelspec": {
      "name": "python3",
      "display_name": "Python 3"
    },
    "language_info": {
      "name": "python"
    }
  },
  "cells": [
    {
      "cell_type": "markdown",
      "metadata": {
        "id": "view-in-github",
        "colab_type": "text"
      },
      "source": [
        "<a href=\"https://colab.research.google.com/github/bsh128/DL23/blob/main/DL2023_DL_DLW07B_BSH.ipynb\" target=\"_parent\"><img src=\"https://colab.research.google.com/assets/colab-badge.svg\" alt=\"Open In Colab\"/></a>"
      ]
    },
    {
      "cell_type": "markdown",
      "source": [
        "#**DLW07B Self-test**\n",
        "**String and Integer**\n",
        "> String: A string is a sequence of characters enclosed in single or double quotes. Examples: \"Hello, world!\" or 'Python is great!'\n",
        "\n",
        "> Integer:  Integers are whole numbers, positive or negative, without any decimal points. Examples: 42, -5, 0"
      ],
      "metadata": {
        "id": "5Wn9qbpde8qo"
      }
    },
    {
      "cell_type": "markdown",
      "source": [
        "**Exercise 1: Create a string and an integer**\n",
        "> Create a variable with the name 'greeting'. Assign the string value \"Hello, students!\". Create a variable with the name 'year'. Assign the integer value 2023 to the variable 'year'."
      ],
      "metadata": {
        "id": "KFimKVUmff1q"
      }
    },
    {
      "cell_type": "code",
      "source": [
        "greeting = \"Hello, students!\"\n",
        "year = 2023"
      ],
      "metadata": {
        "id": "TcJIqQplfuAO"
      },
      "execution_count": 8,
      "outputs": []
    },
    {
      "cell_type": "markdown",
      "source": [
        "**Exercise 2: Print the string and integer**\n",
        "> Print the string greeting and the integer year using the print() function."
      ],
      "metadata": {
        "id": "na9TI3t_g1Nu"
      }
    },
    {
      "cell_type": "code",
      "source": [
        "print(greeting)\n",
        "print(year)"
      ],
      "metadata": {
        "colab": {
          "base_uri": "https://localhost:8080/"
        },
        "id": "vVfoxtFWgsSE",
        "outputId": "e15ea8f2-3b4c-43d8-cce2-4f5d6b590009"
      },
      "execution_count": 9,
      "outputs": [
        {
          "output_type": "stream",
          "name": "stdout",
          "text": [
            "Hello, students!\n",
            "2023\n"
          ]
        }
      ]
    },
    {
      "cell_type": "markdown",
      "source": [
        "**Exercise 3: Concatenate the string and integer**\n",
        "> Use string concatenation to create a new string named message by combining the greeting string and the year integer. Make sure to add a space between them. Then, print the message."
      ],
      "metadata": {
        "id": "XgzpcJV4g8-8"
      }
    },
    {
      "cell_type": "code",
      "source": [
        "message = greeting + \" \" + str(year)\n",
        "message"
      ],
      "metadata": {
        "colab": {
          "base_uri": "https://localhost:8080/",
          "height": 36
        },
        "id": "zrX12Zvng_dK",
        "outputId": "1ae00dd1-c213-4018-a33e-f9d181325854"
      },
      "execution_count": 10,
      "outputs": [
        {
          "output_type": "execute_result",
          "data": {
            "text/plain": [
              "'Hello, students! 2023'"
            ],
            "application/vnd.google.colaboratory.intrinsic+json": {
              "type": "string"
            }
          },
          "metadata": {},
          "execution_count": 10
        }
      ]
    },
    {
      "cell_type": "markdown",
      "source": [
        "**Exercise 4: Perform arithmetic operations with integers**\n",
        "> Create two integers named num1 and num2 with the values 10 and 3, respectively. Perform the following arithmetic operations and print the results:\n",
        "\n",
        "Addition: e.g., print(num1 + num2) Subtraction: Multiplication: Division: (output is floating-point result)"
      ],
      "metadata": {
        "id": "O9fF6Xpchg2I"
      }
    },
    {
      "cell_type": "code",
      "source": [
        "num1 = 10\n",
        "num2 = 3\n",
        "print (num1 + num2)\n",
        "print (num1 - num2)\n",
        "print (num1 * num2)\n",
        "print (num1/num2)"
      ],
      "metadata": {
        "colab": {
          "base_uri": "https://localhost:8080/"
        },
        "id": "GKoKGfkvhnsK",
        "outputId": "da7eae23-b6c8-4f1a-eb03-593ba05643bd"
      },
      "execution_count": 13,
      "outputs": [
        {
          "output_type": "stream",
          "name": "stdout",
          "text": [
            "13\n",
            "7\n",
            "30\n",
            "3.3333333333333335\n"
          ]
        }
      ]
    },
    {
      "cell_type": "markdown",
      "source": [
        "**Exercise 5: Input string and integer from user**\n",
        "> Prompt the user for a string called user_string and an integer called user_number. Then, print the user_string repeated user_number times.\n",
        "\n",
        "Hint: You'll need to use the input() function and convert the input to an integer using the int() function."
      ],
      "metadata": {
        "id": "pWkHADPjh8HR"
      }
    },
    {
      "cell_type": "code",
      "source": [
        "user_string = input ()"
      ],
      "metadata": {
        "colab": {
          "base_uri": "https://localhost:8080/"
        },
        "id": "sQ0HzubLiCGJ",
        "outputId": "01477e79-4c99-44df-e015-aebc65d00c5a"
      },
      "execution_count": 14,
      "outputs": [
        {
          "name": "stdout",
          "output_type": "stream",
          "text": [
            "Mary\n"
          ]
        }
      ]
    },
    {
      "cell_type": "code",
      "source": [
        "print(user_string)"
      ],
      "metadata": {
        "colab": {
          "base_uri": "https://localhost:8080/"
        },
        "id": "Vdzae9_RialY",
        "outputId": "18509475-0f10-4d5c-bb38-f0bf4ae1865b"
      },
      "execution_count": 15,
      "outputs": [
        {
          "output_type": "stream",
          "name": "stdout",
          "text": [
            "Mary\n"
          ]
        }
      ]
    },
    {
      "cell_type": "code",
      "source": [
        "user_number = input (\"Type any numbers \") "
      ],
      "metadata": {
        "colab": {
          "base_uri": "https://localhost:8080/"
        },
        "id": "l0j5PtzFifnJ",
        "outputId": "d494fa91-6598-4f84-f4f3-176b9c9cec9a"
      },
      "execution_count": 18,
      "outputs": [
        {
          "name": "stdout",
          "output_type": "stream",
          "text": [
            "Type any numbers 34\n"
          ]
        }
      ]
    },
    {
      "cell_type": "code",
      "source": [
        "user_string = input (\"Type any strings \")\n",
        "user_number = input (\"Type any numbers \") \n",
        "# input() is basically string type\n",
        "user_number = int(user_number) \n",
        "# string to integer\n",
        "\n",
        "user_string*user_number"
      ],
      "metadata": {
        "colab": {
          "base_uri": "https://localhost:8080/",
          "height": 73
        },
        "id": "cDZiYPZ0ixAg",
        "outputId": "ad1e807c-e4a0-4aef-ffb1-5697cf47eb41"
      },
      "execution_count": 26,
      "outputs": [
        {
          "name": "stdout",
          "output_type": "stream",
          "text": [
            "Type any strings hello~~\n",
            "Type any numbers 5\n"
          ]
        },
        {
          "output_type": "execute_result",
          "data": {
            "text/plain": [
              "'hello~~hello~~hello~~hello~~hello~~'"
            ],
            "application/vnd.google.colaboratory.intrinsic+json": {
              "type": "string"
            }
          },
          "metadata": {},
          "execution_count": 26
        }
      ]
    },
    {
      "cell_type": "markdown",
      "source": [
        "**Exercise 6: Splitting a string**\n",
        "> Given a string sentence, split it into words and store the result in a list named word_list. Then, print the list."
      ],
      "metadata": {
        "id": "B8x0UoAPjybc"
      }
    },
    {
      "cell_type": "code",
      "source": [
        "sentence = \"Coding is fun and easy to learn\"\n",
        "word_list = sentence. split()\n",
        "print(word_list)"
      ],
      "metadata": {
        "colab": {
          "base_uri": "https://localhost:8080/"
        },
        "id": "wmF7pJyYjx0P",
        "outputId": "4c7d5b19-f8c0-4b14-976b-16e0b4eede2f"
      },
      "execution_count": 28,
      "outputs": [
        {
          "output_type": "stream",
          "name": "stdout",
          "text": [
            "['Coding', 'is', 'fun', 'and', 'easy', 'to', 'learn']\n"
          ]
        }
      ]
    },
    {
      "cell_type": "markdown",
      "source": [
        "**Exercise 7: Converting strings to uppercase and lowercase**\n",
        "> Create a string text containing the value \"Coding is Exciting!\". Convert the string to uppercase and store it in a variable named uppercase_text. Convert the string to lowercase and store it with a variable named lowercase_text. Finally, print both uppercase_text and lowercase_text."
      ],
      "metadata": {
        "id": "yzznpDDlkTJO"
      }
    },
    {
      "cell_type": "code",
      "source": [
        "a = \"Coding is Exciting!\"\n",
        "uppercase_test = a.upper()\n",
        "lowercase_test = a.lower()\n",
        "lowercase_test"
      ],
      "metadata": {
        "colab": {
          "base_uri": "https://localhost:8080/",
          "height": 36
        },
        "id": "uQOTeOXkk9xZ",
        "outputId": "6a470307-051c-4e92-e240-e628aea2d51a"
      },
      "execution_count": 29,
      "outputs": [
        {
          "output_type": "execute_result",
          "data": {
            "text/plain": [
              "'coding is exciting!'"
            ],
            "application/vnd.google.colaboratory.intrinsic+json": {
              "type": "string"
            }
          },
          "metadata": {},
          "execution_count": 29
        }
      ]
    },
    {
      "cell_type": "markdown",
      "source": [
        "**Exercise 8: String indexing and slicing**\n",
        "> Given a string quote, perform the following tasks:\n",
        "\n",
        "1. Print the first character of the string.\n",
        "2. Print the last character of the string.\n",
        "3. Print the first 5 characters of the string.\n",
        "4. Print the characters from position 5 to the end of the string.\n",
        "5. Print the entire string in reverse order."
      ],
      "metadata": {
        "id": "6JDRsg4ylPW9"
      }
    },
    {
      "cell_type": "code",
      "source": [
        "quote = \"To be or not to be, that is the question.\"\n"
      ],
      "metadata": {
        "id": "VOE__zmxlivD"
      },
      "execution_count": 30,
      "outputs": []
    },
    {
      "cell_type": "code",
      "source": [
        "quote[0]"
      ],
      "metadata": {
        "colab": {
          "base_uri": "https://localhost:8080/",
          "height": 36
        },
        "id": "BX87TcX0lsnL",
        "outputId": "2cf4ba7c-83d6-443e-c28e-23abf0dc93b3"
      },
      "execution_count": 31,
      "outputs": [
        {
          "output_type": "execute_result",
          "data": {
            "text/plain": [
              "'T'"
            ],
            "application/vnd.google.colaboratory.intrinsic+json": {
              "type": "string"
            }
          },
          "metadata": {},
          "execution_count": 31
        }
      ]
    },
    {
      "cell_type": "code",
      "source": [
        "quote[-1]"
      ],
      "metadata": {
        "colab": {
          "base_uri": "https://localhost:8080/",
          "height": 36
        },
        "id": "joBDjwTjlweP",
        "outputId": "0abbafc7-a57c-4da5-bcbd-27415f050fce"
      },
      "execution_count": 32,
      "outputs": [
        {
          "output_type": "execute_result",
          "data": {
            "text/plain": [
              "'.'"
            ],
            "application/vnd.google.colaboratory.intrinsic+json": {
              "type": "string"
            }
          },
          "metadata": {},
          "execution_count": 32
        }
      ]
    },
    {
      "cell_type": "code",
      "source": [
        "quote[0:5]"
      ],
      "metadata": {
        "colab": {
          "base_uri": "https://localhost:8080/",
          "height": 36
        },
        "id": "CEZ8inAwl1fS",
        "outputId": "9678f848-e922-479a-9129-a7e2c849fba0"
      },
      "execution_count": 33,
      "outputs": [
        {
          "output_type": "execute_result",
          "data": {
            "text/plain": [
              "'To be'"
            ],
            "application/vnd.google.colaboratory.intrinsic+json": {
              "type": "string"
            }
          },
          "metadata": {},
          "execution_count": 33
        }
      ]
    },
    {
      "cell_type": "code",
      "source": [
        "quote[5:]"
      ],
      "metadata": {
        "colab": {
          "base_uri": "https://localhost:8080/",
          "height": 36
        },
        "id": "ROooHZ1NmE5I",
        "outputId": "d9b360eb-42ea-43c7-931a-220adf7ff894"
      },
      "execution_count": 34,
      "outputs": [
        {
          "output_type": "execute_result",
          "data": {
            "text/plain": [
              "' or not to be, that is the question.'"
            ],
            "application/vnd.google.colaboratory.intrinsic+json": {
              "type": "string"
            }
          },
          "metadata": {},
          "execution_count": 34
        }
      ]
    },
    {
      "cell_type": "code",
      "source": [
        "reverse = quote[::-1]\n",
        "print(reverse)"
      ],
      "metadata": {
        "colab": {
          "base_uri": "https://localhost:8080/"
        },
        "id": "trLJdswBmLpN",
        "outputId": "bae2a087-f4ff-4927-bc25-415b67bf006d"
      },
      "execution_count": 37,
      "outputs": [
        {
          "output_type": "stream",
          "name": "stdout",
          "text": [
            ".noitseuq eht si taht ,eb ot ton ro eb oT\n"
          ]
        }
      ]
    }
  ]
}